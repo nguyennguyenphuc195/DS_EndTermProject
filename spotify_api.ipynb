{
 "cells": [
  {
   "cell_type": "code",
   "execution_count": 1,
   "metadata": {},
   "outputs": [],
   "source": [
    "import requests\n",
    "import json\n",
    "import spotipy\n",
    "import pandas as pd\n",
    "from typing import List, Dict\n",
    "import time"
   ]
  },
  {
   "cell_type": "code",
   "execution_count": 2,
   "metadata": {},
   "outputs": [],
   "source": [
    "import spotipy.util as util"
   ]
  },
  {
   "cell_type": "markdown",
   "metadata": {},
   "source": [
    "# Lấy token để gọi API"
   ]
  },
  {
   "cell_type": "code",
   "execution_count": 10,
   "metadata": {},
   "outputs": [],
   "source": [
    "username = \"Chrisnguyen\"\n",
    "client_id= \"ac6f1d431d774310a0761aef45b2160a\"\n",
    "client_secret = \"c4142f832771476ea77e178bff1c9b3d\"\n",
    "redirect_uri  = \"http://localhost:8080/callback/\"\n",
    "scope = 'playlist-read-collaborative'\n",
    "\n",
    "def renew_token():\n",
    "    return util.prompt_for_user_token(username=username, \n",
    "                                   scope=scope, \n",
    "                                   client_id=client_id,   \n",
    "                                   client_secret=client_secret,     \n",
    "                                   redirect_uri=redirect_uri)\n",
    "\n",
    "token = renew_token()"
   ]
  },
  {
   "cell_type": "code",
   "execution_count": 11,
   "metadata": {},
   "outputs": [
    {
     "name": "stdout",
     "output_type": "stream",
     "text": [
      "BQDjO4oWYsjN7StEQIjOraQ6S3WS6o9dzhGqRe5cx5BuZQYNUAn25jwbORpxq-fpZ7d0ExVq39zy-HG24hztz9JV0Lbt17AOLvtkftvlmWNCXMGvQus6VZIyR-wP5QiKBfWdfLi32URvKvxHz0__7MKKhzH8VSJqWNipRfCijAHbcGW7NPtv58iRcmmjmeLJdy1FRgI\n"
     ]
    }
   ],
   "source": [
    "print(token)"
   ]
  },
  {
   "cell_type": "code",
   "execution_count": 5,
   "metadata": {},
   "outputs": [],
   "source": [
    "def get_id(track_name: str, token: str) -> str:\n",
    "    headers = {\n",
    "        'Accept': 'application/json',\n",
    "        'Content-Type': 'application/json',\n",
    "        'Authorization': f'Bearer ' + token,\n",
    "    }\n",
    "    params = [\n",
    "        ('q', track_name),\n",
    "        ('type', 'track'),\n",
    "    ]\n",
    "    try:\n",
    "        response = requests.get('https://api.spotify.com/v1/search', \n",
    "                    headers = headers, params = params, timeout = 5)\n",
    "        json = response.json()\n",
    "        first_result = json['tracks']['items'][0]\n",
    "        track_id = first_result['id']\n",
    "        return track_id\n",
    "    except:\n",
    "        return None"
   ]
  },
  {
   "cell_type": "code",
   "execution_count": 6,
   "metadata": {},
   "outputs": [],
   "source": [
    "def get_features(track_id: str, token: str) -> dict:\n",
    "    headers = {\n",
    "        'Accept': 'application/json',\\\n",
    "        'Content-Type': 'application/json',\\\n",
    "        'Authorization': f'Bearer ' + token,\\\n",
    "    }\n",
    "\n",
    "    response = requests.get(f\"https://api.spotify.com/v1/audio-features/{track_id}\", headers = headers)\n",
    "    json_obj = response.json()\n",
    "    \n",
    "    if response.status_code != 200:\n",
    "        print(response)\n",
    "        return response, None\n",
    "    \n",
    "    return response, json_obj"
   ]
  },
  {
   "cell_type": "markdown",
   "metadata": {},
   "source": [
    "# Lấy danh sách các playlist do spotify tổng hợp"
   ]
  },
  {
   "cell_type": "code",
   "execution_count": 7,
   "metadata": {},
   "outputs": [],
   "source": [
    "def get_all_playlist(username: str, token: str) -> List[Dict]:\n",
    "    headers = {\n",
    "        'Accept': 'application/json',\\\n",
    "        'Content-Type': 'application/json',\\\n",
    "        'Authorization': f'Bearer ' + token,\\\n",
    "    }\n",
    "    \n",
    "    offset   = 0\n",
    "    limit    = 50\n",
    "    total    = 100000 #max offset in spotify\n",
    "    playlist = []\n",
    "    \n",
    "    while offset < total:\n",
    "        params = [(\"limit\", limit), (\"offset\", offset)]\n",
    "        \n",
    "        response = requests.get(f\"https://api.spotify.com/v1/users/{username}/playlists\", headers = headers, params=params)\n",
    "        json_obj = response.json()\n",
    "        \n",
    "        if response.status_code != 200:\n",
    "            print(response)\n",
    "            continue\n",
    "        \n",
    "        playlist.extend(json_obj[\"items\"])\n",
    "        n = offset + len(json_obj[\"items\"])\n",
    "\n",
    "        print(f\"Successfully get from playlist {offset} to {n}\")\n",
    "        offset = n\n",
    "        \n",
    "        if json_obj[\"total\"] < total:\n",
    "            total = json_obj[\"total\"]\n",
    "            \n",
    "        if not \"next\" in json_obj or json_obj[\"next\"] == \"\":\n",
    "            break\n",
    "\n",
    "    return playlist"
   ]
  },
  {
   "cell_type": "code",
   "execution_count": 117,
   "metadata": {
    "collapsed": true,
    "jupyter": {
     "outputs_hidden": true
    }
   },
   "outputs": [
    {
     "name": "stdout",
     "output_type": "stream",
     "text": [
      "Successfully get from playlist 0 to 50\n",
      "Successfully get from playlist 50 to 100\n",
      "Successfully get from playlist 100 to 150\n",
      "Successfully get from playlist 150 to 200\n",
      "Successfully get from playlist 200 to 250\n",
      "Successfully get from playlist 250 to 300\n",
      "Successfully get from playlist 300 to 350\n",
      "Successfully get from playlist 350 to 400\n",
      "Successfully get from playlist 400 to 450\n",
      "Successfully get from playlist 450 to 500\n",
      "Successfully get from playlist 500 to 550\n",
      "Successfully get from playlist 550 to 600\n",
      "Successfully get from playlist 600 to 650\n",
      "Successfully get from playlist 650 to 700\n",
      "Successfully get from playlist 700 to 750\n",
      "Successfully get from playlist 750 to 800\n",
      "Successfully get from playlist 800 to 850\n",
      "Successfully get from playlist 850 to 900\n",
      "Successfully get from playlist 900 to 950\n",
      "Successfully get from playlist 950 to 1000\n",
      "Successfully get from playlist 1000 to 1050\n",
      "Successfully get from playlist 1050 to 1100\n",
      "Successfully get from playlist 1100 to 1150\n",
      "Successfully get from playlist 1150 to 1200\n",
      "Successfully get from playlist 1200 to 1250\n",
      "Successfully get from playlist 1250 to 1300\n",
      "Successfully get from playlist 1300 to 1350\n",
      "Successfully get from playlist 1350 to 1400\n",
      "Successfully get from playlist 1400 to 1412\n"
     ]
    }
   ],
   "source": [
    "spotify_playlist = get_all_playlist(\"spotify\", token)"
   ]
  },
  {
   "cell_type": "code",
   "execution_count": 118,
   "metadata": {},
   "outputs": [],
   "source": [
    "playlist_id = [s[\"id\"] for s in spotify_playlist]    "
   ]
  },
  {
   "cell_type": "code",
   "execution_count": 119,
   "metadata": {},
   "outputs": [],
   "source": [
    "with open(\"playlist.txt\", \"w\") as f:\n",
    "    for ids in playlist_id:\n",
    "        f.write(ids + \"\\n\")"
   ]
  },
  {
   "cell_type": "code",
   "execution_count": 121,
   "metadata": {},
   "outputs": [
    {
     "data": {
      "text/plain": [
       "1412"
      ]
     },
     "execution_count": 121,
     "metadata": {},
     "output_type": "execute_result"
    }
   ],
   "source": [
    "len(playlist_id)"
   ]
  },
  {
   "cell_type": "markdown",
   "metadata": {},
   "source": [
    "# Lấy tất cả các dữ liệu về track"
   ]
  },
  {
   "cell_type": "code",
   "execution_count": 7,
   "metadata": {},
   "outputs": [],
   "source": [
    "def get_row_from_trackid(ids: str, token: str):\n",
    "    #Lấy thông tin về track\n",
    "    headers = {\n",
    "        'Accept': 'application/json',\\\n",
    "        'Content-Type': 'application/json',\\\n",
    "        'Authorization': f'Bearer ' + token,\\\n",
    "    }\n",
    "\n",
    "    response = requests.get(f\"https://api.spotify.com/v1/tracks/{ids}\", headers = headers)\n",
    "    json_obj = response.json()\n",
    "    \n",
    "    if response.status_code != 200:\n",
    "        print(response)\n",
    "        return response, None\n",
    "    #Lấy đặc trưng của track\n",
    "    response, fts  = get_features(ids, token)\n",
    "    if response.status_code != 200:\n",
    "        print(response)\n",
    "        return response, None\n",
    "    \n",
    "    #Tạo dòng\n",
    "    row = {}\n",
    "    row[\"artists\"] = \",\".join([a[\"id\"] for a in json_obj[\"artists\"]])\n",
    "    row[\"available_markets\"] = \",\".join(json_obj[\"available_markets\"])\n",
    "    row[\"explicit\"]   = json_obj[\"explicit\"]\n",
    "    row[\"popularity\"] = json_obj[\"popularity\"]\n",
    "    row.update(fts)\n",
    "    return response, row"
   ]
  },
  {
   "cell_type": "code",
   "execution_count": 22,
   "metadata": {},
   "outputs": [
    {
     "data": {
      "text/plain": [
       "(<Response [200]>,\n",
       " {'artists': '3NBrt8JfhJ7ucWdqrsxQbU',\n",
       "  'available_markets': 'AD,AE,AL,AR,AT,AU,BA,BE,BG,BH,BO,BR,BY,CA,CH,CL,CO,CR,CY,CZ,DE,DK,DO,DZ,EC,EE,EG,ES,FI,FR,GB,GR,GT,HK,HN,HR,HU,ID,IE,IL,IN,IS,IT,JO,JP,KW,KZ,LB,LI,LT,LU,LV,MA,MC,MD,MK,MT,MX,MY,NI,NL,NO,NZ,OM,PA,PE,PH,PL,PS,PT,PY,QA,RO,RU,SA,SE,SG,SI,SK,SV,TH,TN,TR,TW,UA,US,UY,VN,ZA',\n",
       "  'explicit': False,\n",
       "  'popularity': 10,\n",
       "  'danceability': 0.696,\n",
       "  'energy': 0.45,\n",
       "  'key': 8,\n",
       "  'loudness': -13.074,\n",
       "  'mode': 0,\n",
       "  'speechiness': 0.953,\n",
       "  'acousticness': 0.821,\n",
       "  'instrumentalness': 0,\n",
       "  'liveness': 0.0973,\n",
       "  'valence': 0.391,\n",
       "  'tempo': 103.892,\n",
       "  'type': 'audio_features',\n",
       "  'id': '2QDV31b1RcaMUxKZJ0hJld',\n",
       "  'uri': 'spotify:track:2QDV31b1RcaMUxKZJ0hJld',\n",
       "  'track_href': 'https://api.spotify.com/v1/tracks/2QDV31b1RcaMUxKZJ0hJld',\n",
       "  'analysis_url': 'https://api.spotify.com/v1/audio-analysis/2QDV31b1RcaMUxKZJ0hJld',\n",
       "  'duration_ms': 1104427,\n",
       "  'time_signature': 4})"
      ]
     },
     "execution_count": 22,
     "metadata": {},
     "output_type": "execute_result"
    }
   ],
   "source": [
    "get_row_from_trackid(\"2QDV31b1RcaMUxKZJ0hJld\", token)"
   ]
  },
  {
   "cell_type": "code",
   "execution_count": 47,
   "metadata": {},
   "outputs": [],
   "source": [
    "def get_all_track(token: str, start: int = 0, max_num: int = 10000) -> List[Dict]:\n",
    "    headers = {\n",
    "        'Accept': 'application/json',\\\n",
    "        'Content-Type': 'application/json',\\\n",
    "        'Authorization': f'Bearer ' + token,\\\n",
    "    }\n",
    "    tracks = []\n",
    "    \n",
    "    num_track = start\n",
    "    consecutive_fails = 0\n",
    "    with open(\"tracks.txt\") as f:\n",
    "        # skip tới id thử start\n",
    "        for i in range(start):\n",
    "            next(f)\n",
    "                \n",
    "        for line in f:\n",
    "            try:\n",
    "                response, row = get_row_from_trackid(line[:-1], token)\n",
    "                \n",
    "                if response.status_code == 200:\n",
    "                    # Nhận thành công\n",
    "                    consecutive_fails = 0\n",
    "                    tracks.append(row)\n",
    "                    num_track += 1\n",
    "                    if num_track % 1000 == 0:\n",
    "                        print(\"Get 1000 track\")\n",
    "                elif response.status_code == 401:\n",
    "                    print(response)\n",
    "                    # Hết hạn token\n",
    "                    consecutive_fails += 1\n",
    "                    token = renew_token()\n",
    "                elif response.status_code == 404:\n",
    "                    print(response)\n",
    "                    # Không tìm thầy đường dẫn\n",
    "                    consecutive_fails += 1\n",
    "                    pass\n",
    "            except:\n",
    "                consecutive_fails += 1\n",
    "                pass\n",
    "            \n",
    "            if consecutive_fails == 10 or num_track >= max_num:\n",
    "                A = pd.DataFrame(tracks)\n",
    "                A.to_csv(f\"track_{start}_{num_track}.csv\")\n",
    "                return num_track\n",
    "                \n",
    "            if num_track % 1000 == 0:\n",
    "                print(\"Get 500 track\")"
   ]
  },
  {
   "cell_type": "code",
   "execution_count": 48,
   "metadata": {},
   "outputs": [
    {
     "name": "stdout",
     "output_type": "stream",
     "text": [
      "<Response [401]>\n",
      "<Response [401]>\n",
      "<Response [401]>\n",
      "<Response [404]>\n",
      "<Response [404]>\n",
      "<Response [404]>\n",
      "<Response [404]>\n",
      "<Response [404]>\n",
      "Get 1000 track\n",
      "Get 500 track\n",
      "<Response [404]>\n",
      "<Response [404]>\n",
      "<Response [404]>\n",
      "<Response [404]>\n",
      "Get 1000 track\n",
      "Get 500 track\n",
      "Get 1000 track\n",
      "Get 500 track\n",
      "Get 1000 track\n",
      "Get 500 track\n",
      "<Response [404]>\n",
      "<Response [404]>\n",
      "Get 1000 track\n",
      "Get 500 track\n",
      "<Response [404]>\n",
      "<Response [404]>\n",
      "Get 1000 track\n",
      "Get 500 track\n",
      "<Response [401]>\n",
      "<Response [401]>\n",
      "<Response [401]>\n",
      "Get 1000 track\n",
      "Get 500 track\n",
      "Get 1000 track\n",
      "Get 500 track\n",
      "Get 1000 track\n",
      "Get 500 track\n",
      "Get 1000 track\n"
     ]
    }
   ],
   "source": [
    "num_track = get_all_track(token)"
   ]
  },
  {
   "cell_type": "code",
   "execution_count": 49,
   "metadata": {},
   "outputs": [
    {
     "data": {
      "text/plain": [
       "10000"
      ]
     },
     "execution_count": 49,
     "metadata": {},
     "output_type": "execute_result"
    }
   ],
   "source": [
    "num_track"
   ]
  },
  {
   "cell_type": "markdown",
   "metadata": {},
   "source": [
    "# Lấy tất cả các dữ liệu về artist"
   ]
  },
  {
   "cell_type": "code",
   "execution_count": 39,
   "metadata": {},
   "outputs": [],
   "source": [
    "ids = \"6jMfbm9y64CESMB5wFtgZx\""
   ]
  },
  {
   "cell_type": "code",
   "execution_count": 50,
   "metadata": {},
   "outputs": [],
   "source": [
    "def get_row_from_artistid(ids: str, token: str)-> Dict[str, object]:\n",
    "    #Lấy thông tin về track\n",
    "    headers = {\n",
    "        'Accept': 'application/json',\\\n",
    "        'Content-Type': 'application/json',\\\n",
    "        'Authorization': f'Bearer ' + token,\\\n",
    "    }\n",
    "\n",
    "    response = requests.get(f\"https://api.spotify.com/v1/artists/{ids}\", headers = headers)\n",
    "    json_obj = response.json()\n",
    "\n",
    "    if response.status_code != 200:\n",
    "        return response, None\n",
    "    #Tạo dòng\n",
    "    row = {}\n",
    "    row[\"followers\"] = json_obj[\"followers\"][\"total\"]\n",
    "    row['genres'] = json_obj['genres']\n",
    "    row['id'] = json_obj['id']\n",
    "    row['name'] = json_obj['name']\n",
    "    row['popularity'] = json_obj['popularity']\n",
    "\n",
    "    return response, row"
   ]
  },
  {
   "cell_type": "code",
   "execution_count": 47,
   "metadata": {},
   "outputs": [
    {
     "data": {
      "text/plain": [
       "{'followers': 15975,\n",
       " 'genres': ['swedish reggae'],\n",
       " 'id': '6jMfbm9y64CESMB5wFtgZx',\n",
       " 'name': 'Governor Andy',\n",
       " 'popularity': 38}"
      ]
     },
     "execution_count": 47,
     "metadata": {},
     "output_type": "execute_result"
    }
   ],
   "source": [
    "get_row_from_artistid(ids, token)"
   ]
  },
  {
   "cell_type": "code",
   "execution_count": 55,
   "metadata": {},
   "outputs": [],
   "source": [
    "def get_all_artist(token: str, start: int = 0, max_num: int = 10000) -> List[Dict]:\n",
    "    headers = {\n",
    "        'Accept': 'application/json',\\\n",
    "        'Content-Type': 'application/json',\\\n",
    "        'Authorization': f'Bearer ' + token,\\\n",
    "    }\n",
    "    artists = []\n",
    "    \n",
    "    num_artist = start\n",
    "    consecutive_fails = 0\n",
    "    with open(\"artists.txt\") as f:\n",
    "        # skip tới id thử start\n",
    "        for i in range(start):\n",
    "            next(f)\n",
    "                \n",
    "        for line in f:\n",
    "            try:\n",
    "                response, row = get_row_from_artistid(line[:-1], token)\n",
    "                \n",
    "                if response.status_code == 200:\n",
    "                    # Nhận thành công\n",
    "                    consecutive_fails = 0\n",
    "                    artists.append(row)\n",
    "                    num_artist += 1\n",
    "                    if num_artist % 1000 == 0:\n",
    "                        print(\"Get 1000 artists\")\n",
    "                elif response.status_code == 401:\n",
    "                    # Hết hạn token\n",
    "                    consecutive_fails += 1\n",
    "                    token = renew_token()\n",
    "                elif response.status_code == 404:\n",
    "                    print(response)\n",
    "                    # Không tìm thầy đường dẫn\n",
    "                    consecutive_fails += 1\n",
    "                    pass\n",
    "            except:\n",
    "                consecutive_fails += 1\n",
    "                pass\n",
    "            \n",
    "            if consecutive_fails == 10 or num_artist >= max_num:\n",
    "                A = pd.DataFrame(artists)\n",
    "                A.to_csv(f\"artist_{start}_{num_artist}.csv\")\n",
    "                return num_artist\n",
    "                \n",
    "        A = pd.DataFrame(artists)\n",
    "        A.to_csv(f\"artist_{start}_{num_artist}.csv\")\n",
    "        return num_artist"
   ]
  },
  {
   "cell_type": "code",
   "execution_count": 56,
   "metadata": {},
   "outputs": [
    {
     "name": "stdout",
     "output_type": "stream",
     "text": [
      "Get 1000 artists\n",
      "Get 1000 artists\n",
      "Get 1000 artists\n",
      "Get 1000 artists\n",
      "<Response [404]>\n",
      "<Response [404]>\n",
      "Get 1000 artists\n",
      "Get 1000 artists\n",
      "Get 1000 artists\n",
      "Get 1000 artists\n",
      "Get 1000 artists\n",
      "Get 1000 artists\n"
     ]
    }
   ],
   "source": [
    "num_artist = get_all_artist(token)"
   ]
  },
  {
   "cell_type": "code",
   "execution_count": 57,
   "metadata": {},
   "outputs": [
    {
     "data": {
      "text/plain": [
       "10000"
      ]
     },
     "execution_count": 57,
     "metadata": {},
     "output_type": "execute_result"
    }
   ],
   "source": [
    "num_artist"
   ]
  },
  {
   "cell_type": "code",
   "execution_count": null,
   "metadata": {},
   "outputs": [],
   "source": []
  }
 ],
 "metadata": {
  "kernelspec": {
   "display_name": "Python 3",
   "language": "python",
   "name": "python3"
  },
  "language_info": {
   "codemirror_mode": {
    "name": "ipython",
    "version": 3
   },
   "file_extension": ".py",
   "mimetype": "text/x-python",
   "name": "python",
   "nbconvert_exporter": "python",
   "pygments_lexer": "ipython3",
   "version": "3.8.3"
  }
 },
 "nbformat": 4,
 "nbformat_minor": 4
}
