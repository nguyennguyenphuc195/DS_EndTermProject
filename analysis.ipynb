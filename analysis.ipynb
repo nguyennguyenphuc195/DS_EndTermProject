{
 "cells": [
  {
   "cell_type": "code",
   "execution_count": 1,
   "metadata": {},
   "outputs": [],
   "source": [
    "import numpy as np\n",
    "import matplotlib.pyplot as plt\n",
    "import pandas as pd\n",
    "import seaborn as sns\n",
    "from typing import Dict, List, Tuple"
   ]
  },
  {
   "cell_type": "code",
   "execution_count": 2,
   "metadata": {},
   "outputs": [],
   "source": [
    "TRACK_DIR = \"./data/tracks.csv\"\n",
    "ARTIST_DIR= \"./data/artists.csv\"\n",
    "AUDIO_DIR = \"./data/features.csv\""
   ]
  },
  {
   "cell_type": "markdown",
   "metadata": {},
   "source": [
    "### LOAD DATA"
   ]
  },
  {
   "cell_type": "code",
   "execution_count": 3,
   "metadata": {},
   "outputs": [],
   "source": [
    "df_track_id   = pd.read_csv(TRACK_DIR, index_col=0)\n",
    "df_feature_id = pd.read_csv(AUDIO_DIR, index_col=0)\n",
    "\n",
    "df_track   = df_track_id.merge(df_feature_id, left_on=\"id\", right_on=\"id\")\n",
    "df_artist  = pd.read_csv(ARTIST_DIR, index_col=0)"
   ]
  },
  {
   "cell_type": "code",
   "execution_count": 4,
   "metadata": {},
   "outputs": [
    {
     "data": {
      "text/html": [
       "<div>\n",
       "<style scoped>\n",
       "    .dataframe tbody tr th:only-of-type {\n",
       "        vertical-align: middle;\n",
       "    }\n",
       "\n",
       "    .dataframe tbody tr th {\n",
       "        vertical-align: top;\n",
       "    }\n",
       "\n",
       "    .dataframe thead th {\n",
       "        text-align: right;\n",
       "    }\n",
       "</style>\n",
       "<table border=\"1\" class=\"dataframe\">\n",
       "  <thead>\n",
       "    <tr style=\"text-align: right;\">\n",
       "      <th></th>\n",
       "      <th>id</th>\n",
       "      <th>name</th>\n",
       "      <th>artists</th>\n",
       "      <th>available_markets</th>\n",
       "      <th>explicit</th>\n",
       "      <th>popularity</th>\n",
       "      <th>danceability</th>\n",
       "      <th>energy</th>\n",
       "      <th>key</th>\n",
       "      <th>loudness</th>\n",
       "      <th>...</th>\n",
       "      <th>instrumentalness</th>\n",
       "      <th>liveness</th>\n",
       "      <th>valence</th>\n",
       "      <th>tempo</th>\n",
       "      <th>type</th>\n",
       "      <th>uri</th>\n",
       "      <th>track_href</th>\n",
       "      <th>analysis_url</th>\n",
       "      <th>duration_ms</th>\n",
       "      <th>time_signature</th>\n",
       "    </tr>\n",
       "  </thead>\n",
       "  <tbody>\n",
       "    <tr>\n",
       "      <th>0</th>\n",
       "      <td>57pTcQBErlQjfe2kfzLffr</td>\n",
       "      <td>Caves</td>\n",
       "      <td>1ifC4znYCvmMSJ0rght5JS</td>\n",
       "      <td>NaN</td>\n",
       "      <td>False</td>\n",
       "      <td>0</td>\n",
       "      <td>0.554</td>\n",
       "      <td>0.318</td>\n",
       "      <td>3</td>\n",
       "      <td>-13.288</td>\n",
       "      <td>...</td>\n",
       "      <td>0.397000</td>\n",
       "      <td>0.1230</td>\n",
       "      <td>0.0565</td>\n",
       "      <td>130.110</td>\n",
       "      <td>audio_features</td>\n",
       "      <td>spotify:track:57pTcQBErlQjfe2kfzLffr</td>\n",
       "      <td>https://api.spotify.com/v1/tracks/57pTcQBErlQj...</td>\n",
       "      <td>https://api.spotify.com/v1/audio-analysis/57pT...</td>\n",
       "      <td>233240</td>\n",
       "      <td>4</td>\n",
       "    </tr>\n",
       "    <tr>\n",
       "      <th>1</th>\n",
       "      <td>3CFx8SBSwY8Q1IplDTQ6kB</td>\n",
       "      <td>Spanish Eyes</td>\n",
       "      <td>7egNqIGRldMzifHoh8pib6</td>\n",
       "      <td>AD,AE,AL,AR,AT,AU,BA,BE,BG,BH,BO,BR,BY,CH,CL,C...</td>\n",
       "      <td>False</td>\n",
       "      <td>48</td>\n",
       "      <td>0.515</td>\n",
       "      <td>0.490</td>\n",
       "      <td>2</td>\n",
       "      <td>-8.565</td>\n",
       "      <td>...</td>\n",
       "      <td>0.000046</td>\n",
       "      <td>0.0875</td>\n",
       "      <td>0.4950</td>\n",
       "      <td>109.290</td>\n",
       "      <td>audio_features</td>\n",
       "      <td>spotify:track:3CFx8SBSwY8Q1IplDTQ6kB</td>\n",
       "      <td>https://api.spotify.com/v1/tracks/3CFx8SBSwY8Q...</td>\n",
       "      <td>https://api.spotify.com/v1/audio-analysis/3CFx...</td>\n",
       "      <td>166867</td>\n",
       "      <td>4</td>\n",
       "    </tr>\n",
       "    <tr>\n",
       "      <th>2</th>\n",
       "      <td>6YWFr8BHQrRL4b7RwuqS36</td>\n",
       "      <td>Golden Boy</td>\n",
       "      <td>0QmOR0TqxMPtZxtaIJ5klY</td>\n",
       "      <td>AD,AL,AR,AT,AU,BA,BE,BG,BO,BR,BY,CA,CH,CL,CO,C...</td>\n",
       "      <td>False</td>\n",
       "      <td>46</td>\n",
       "      <td>0.716</td>\n",
       "      <td>0.829</td>\n",
       "      <td>1</td>\n",
       "      <td>-5.370</td>\n",
       "      <td>...</td>\n",
       "      <td>0.000000</td>\n",
       "      <td>0.0705</td>\n",
       "      <td>0.7050</td>\n",
       "      <td>115.033</td>\n",
       "      <td>audio_features</td>\n",
       "      <td>spotify:track:6YWFr8BHQrRL4b7RwuqS36</td>\n",
       "      <td>https://api.spotify.com/v1/tracks/6YWFr8BHQrRL...</td>\n",
       "      <td>https://api.spotify.com/v1/audio-analysis/6YWF...</td>\n",
       "      <td>180586</td>\n",
       "      <td>4</td>\n",
       "    </tr>\n",
       "    <tr>\n",
       "      <th>3</th>\n",
       "      <td>4qJptAjwx2y7nZCOeXsSC9</td>\n",
       "      <td>Isabella</td>\n",
       "      <td>3ZXXJ9nO1Dn9B0AJ25eAQY</td>\n",
       "      <td>AD,AE,AL,AR,AT,AU,BA,BE,BG,BH,BO,BR,BY,CA,CH,C...</td>\n",
       "      <td>False</td>\n",
       "      <td>38</td>\n",
       "      <td>0.500</td>\n",
       "      <td>0.638</td>\n",
       "      <td>9</td>\n",
       "      <td>-7.291</td>\n",
       "      <td>...</td>\n",
       "      <td>0.000960</td>\n",
       "      <td>0.1150</td>\n",
       "      <td>0.3430</td>\n",
       "      <td>167.921</td>\n",
       "      <td>audio_features</td>\n",
       "      <td>spotify:track:4qJptAjwx2y7nZCOeXsSC9</td>\n",
       "      <td>https://api.spotify.com/v1/tracks/4qJptAjwx2y7...</td>\n",
       "      <td>https://api.spotify.com/v1/audio-analysis/4qJp...</td>\n",
       "      <td>249493</td>\n",
       "      <td>4</td>\n",
       "    </tr>\n",
       "    <tr>\n",
       "      <th>4</th>\n",
       "      <td>6vR3DSb5oiUlEXqymcQR5n</td>\n",
       "      <td>Svarta duvor &amp; vissna liljor</td>\n",
       "      <td>3kklzjWziqW7RX5jQjsRnb,4bOG1sx3QHFbOUVLNmMpPe</td>\n",
       "      <td>NaN</td>\n",
       "      <td>False</td>\n",
       "      <td>0</td>\n",
       "      <td>0.533</td>\n",
       "      <td>0.786</td>\n",
       "      <td>8</td>\n",
       "      <td>-4.278</td>\n",
       "      <td>...</td>\n",
       "      <td>0.000000</td>\n",
       "      <td>0.2400</td>\n",
       "      <td>0.4780</td>\n",
       "      <td>69.844</td>\n",
       "      <td>audio_features</td>\n",
       "      <td>spotify:track:6vR3DSb5oiUlEXqymcQR5n</td>\n",
       "      <td>https://api.spotify.com/v1/tracks/6vR3DSb5oiUl...</td>\n",
       "      <td>https://api.spotify.com/v1/audio-analysis/6vR3...</td>\n",
       "      <td>262000</td>\n",
       "      <td>3</td>\n",
       "    </tr>\n",
       "  </tbody>\n",
       "</table>\n",
       "<p>5 rows × 23 columns</p>\n",
       "</div>"
      ],
      "text/plain": [
       "                       id                          name  \\\n",
       "0  57pTcQBErlQjfe2kfzLffr                         Caves   \n",
       "1  3CFx8SBSwY8Q1IplDTQ6kB                  Spanish Eyes   \n",
       "2  6YWFr8BHQrRL4b7RwuqS36                    Golden Boy   \n",
       "3  4qJptAjwx2y7nZCOeXsSC9                      Isabella   \n",
       "4  6vR3DSb5oiUlEXqymcQR5n  Svarta duvor & vissna liljor   \n",
       "\n",
       "                                         artists  \\\n",
       "0                         1ifC4znYCvmMSJ0rght5JS   \n",
       "1                         7egNqIGRldMzifHoh8pib6   \n",
       "2                         0QmOR0TqxMPtZxtaIJ5klY   \n",
       "3                         3ZXXJ9nO1Dn9B0AJ25eAQY   \n",
       "4  3kklzjWziqW7RX5jQjsRnb,4bOG1sx3QHFbOUVLNmMpPe   \n",
       "\n",
       "                                   available_markets  explicit  popularity  \\\n",
       "0                                                NaN     False           0   \n",
       "1  AD,AE,AL,AR,AT,AU,BA,BE,BG,BH,BO,BR,BY,CH,CL,C...     False          48   \n",
       "2  AD,AL,AR,AT,AU,BA,BE,BG,BO,BR,BY,CA,CH,CL,CO,C...     False          46   \n",
       "3  AD,AE,AL,AR,AT,AU,BA,BE,BG,BH,BO,BR,BY,CA,CH,C...     False          38   \n",
       "4                                                NaN     False           0   \n",
       "\n",
       "   danceability  energy  key  loudness  ...  instrumentalness  liveness  \\\n",
       "0         0.554   0.318    3   -13.288  ...          0.397000    0.1230   \n",
       "1         0.515   0.490    2    -8.565  ...          0.000046    0.0875   \n",
       "2         0.716   0.829    1    -5.370  ...          0.000000    0.0705   \n",
       "3         0.500   0.638    9    -7.291  ...          0.000960    0.1150   \n",
       "4         0.533   0.786    8    -4.278  ...          0.000000    0.2400   \n",
       "\n",
       "   valence    tempo            type                                   uri  \\\n",
       "0   0.0565  130.110  audio_features  spotify:track:57pTcQBErlQjfe2kfzLffr   \n",
       "1   0.4950  109.290  audio_features  spotify:track:3CFx8SBSwY8Q1IplDTQ6kB   \n",
       "2   0.7050  115.033  audio_features  spotify:track:6YWFr8BHQrRL4b7RwuqS36   \n",
       "3   0.3430  167.921  audio_features  spotify:track:4qJptAjwx2y7nZCOeXsSC9   \n",
       "4   0.4780   69.844  audio_features  spotify:track:6vR3DSb5oiUlEXqymcQR5n   \n",
       "\n",
       "                                          track_href  \\\n",
       "0  https://api.spotify.com/v1/tracks/57pTcQBErlQj...   \n",
       "1  https://api.spotify.com/v1/tracks/3CFx8SBSwY8Q...   \n",
       "2  https://api.spotify.com/v1/tracks/6YWFr8BHQrRL...   \n",
       "3  https://api.spotify.com/v1/tracks/4qJptAjwx2y7...   \n",
       "4  https://api.spotify.com/v1/tracks/6vR3DSb5oiUl...   \n",
       "\n",
       "                                        analysis_url duration_ms  \\\n",
       "0  https://api.spotify.com/v1/audio-analysis/57pT...      233240   \n",
       "1  https://api.spotify.com/v1/audio-analysis/3CFx...      166867   \n",
       "2  https://api.spotify.com/v1/audio-analysis/6YWF...      180586   \n",
       "3  https://api.spotify.com/v1/audio-analysis/4qJp...      249493   \n",
       "4  https://api.spotify.com/v1/audio-analysis/6vR3...      262000   \n",
       "\n",
       "  time_signature  \n",
       "0              4  \n",
       "1              4  \n",
       "2              4  \n",
       "3              4  \n",
       "4              3  \n",
       "\n",
       "[5 rows x 23 columns]"
      ]
     },
     "execution_count": 4,
     "metadata": {},
     "output_type": "execute_result"
    }
   ],
   "source": [
    "df_track.head()"
   ]
  },
  {
   "cell_type": "code",
   "execution_count": 5,
   "metadata": {},
   "outputs": [
    {
     "data": {
      "text/html": [
       "<div>\n",
       "<style scoped>\n",
       "    .dataframe tbody tr th:only-of-type {\n",
       "        vertical-align: middle;\n",
       "    }\n",
       "\n",
       "    .dataframe tbody tr th {\n",
       "        vertical-align: top;\n",
       "    }\n",
       "\n",
       "    .dataframe thead th {\n",
       "        text-align: right;\n",
       "    }\n",
       "</style>\n",
       "<table border=\"1\" class=\"dataframe\">\n",
       "  <thead>\n",
       "    <tr style=\"text-align: right;\">\n",
       "      <th></th>\n",
       "      <th>followers</th>\n",
       "      <th>genres</th>\n",
       "      <th>id</th>\n",
       "      <th>name</th>\n",
       "      <th>popularity</th>\n",
       "    </tr>\n",
       "  </thead>\n",
       "  <tbody>\n",
       "    <tr>\n",
       "      <th>0</th>\n",
       "      <td>47349</td>\n",
       "      <td>['canadian singer-songwriter', 'classic canadi...</td>\n",
       "      <td>5Jj4mqGYiplyowPLKkJLHt</td>\n",
       "      <td>Tom Cochrane</td>\n",
       "      <td>53</td>\n",
       "    </tr>\n",
       "    <tr>\n",
       "      <th>1</th>\n",
       "      <td>1434</td>\n",
       "      <td>[]</td>\n",
       "      <td>1RHPoWCzOTCLxRgABHDQ9e</td>\n",
       "      <td>Rookie Season</td>\n",
       "      <td>30</td>\n",
       "    </tr>\n",
       "    <tr>\n",
       "      <th>2</th>\n",
       "      <td>466</td>\n",
       "      <td>[]</td>\n",
       "      <td>21U625AUwj23OxpWcugsun</td>\n",
       "      <td>Bianca Rossini</td>\n",
       "      <td>19</td>\n",
       "    </tr>\n",
       "    <tr>\n",
       "      <th>3</th>\n",
       "      <td>12378</td>\n",
       "      <td>['classic rock']</td>\n",
       "      <td>4VmWYQQ5M9N9AiAx14v2yg</td>\n",
       "      <td>Aliotta Haynes Jeremiah</td>\n",
       "      <td>51</td>\n",
       "    </tr>\n",
       "    <tr>\n",
       "      <th>4</th>\n",
       "      <td>6694</td>\n",
       "      <td>['dutch r&amp;b']</td>\n",
       "      <td>6jAydcjNjyqbeVY9LU6ImF</td>\n",
       "      <td>Wantigga</td>\n",
       "      <td>34</td>\n",
       "    </tr>\n",
       "  </tbody>\n",
       "</table>\n",
       "</div>"
      ],
      "text/plain": [
       "   followers                                             genres  \\\n",
       "0      47349  ['canadian singer-songwriter', 'classic canadi...   \n",
       "1       1434                                                 []   \n",
       "2        466                                                 []   \n",
       "3      12378                                   ['classic rock']   \n",
       "4       6694                                      ['dutch r&b']   \n",
       "\n",
       "                       id                     name  popularity  \n",
       "0  5Jj4mqGYiplyowPLKkJLHt             Tom Cochrane          53  \n",
       "1  1RHPoWCzOTCLxRgABHDQ9e            Rookie Season          30  \n",
       "2  21U625AUwj23OxpWcugsun           Bianca Rossini          19  \n",
       "3  4VmWYQQ5M9N9AiAx14v2yg  Aliotta Haynes Jeremiah          51  \n",
       "4  6jAydcjNjyqbeVY9LU6ImF                 Wantigga          34  "
      ]
     },
     "execution_count": 5,
     "metadata": {},
     "output_type": "execute_result"
    }
   ],
   "source": [
    "df_artist.head()"
   ]
  },
  {
   "cell_type": "code",
   "execution_count": 6,
   "metadata": {},
   "outputs": [
    {
     "name": "stdout",
     "output_type": "stream",
     "text": [
      "Tracks dataframe shape:   (69162, 23)\n",
      "Artists dataframe shape:  (24544, 5)\n"
     ]
    }
   ],
   "source": [
    "print(\"Tracks dataframe shape:  \", df_track.shape)\n",
    "print(\"Artists dataframe shape: \", df_artist.shape)"
   ]
  },
  {
   "cell_type": "code",
   "execution_count": 7,
   "metadata": {},
   "outputs": [
    {
     "name": "stdout",
     "output_type": "stream",
     "text": [
      "<class 'pandas.core.frame.DataFrame'>\n",
      "Int64Index: 69162 entries, 0 to 69161\n",
      "Data columns (total 23 columns):\n",
      " #   Column             Non-Null Count  Dtype  \n",
      "---  ------             --------------  -----  \n",
      " 0   id                 69162 non-null  object \n",
      " 1   name               69157 non-null  object \n",
      " 2   artists            69162 non-null  object \n",
      " 3   available_markets  52960 non-null  object \n",
      " 4   explicit           69162 non-null  bool   \n",
      " 5   popularity         69162 non-null  int64  \n",
      " 6   danceability       69162 non-null  float64\n",
      " 7   energy             69162 non-null  float64\n",
      " 8   key                69162 non-null  int64  \n",
      " 9   loudness           69162 non-null  float64\n",
      " 10  mode               69162 non-null  int64  \n",
      " 11  speechiness        69162 non-null  float64\n",
      " 12  acousticness       69162 non-null  float64\n",
      " 13  instrumentalness   69162 non-null  float64\n",
      " 14  liveness           69162 non-null  float64\n",
      " 15  valence            69162 non-null  float64\n",
      " 16  tempo              69162 non-null  float64\n",
      " 17  type               69162 non-null  object \n",
      " 18  uri                69162 non-null  object \n",
      " 19  track_href         69162 non-null  object \n",
      " 20  analysis_url       69162 non-null  object \n",
      " 21  duration_ms        69162 non-null  int64  \n",
      " 22  time_signature     69162 non-null  int64  \n",
      "dtypes: bool(1), float64(9), int64(5), object(8)\n",
      "memory usage: 12.2+ MB\n"
     ]
    }
   ],
   "source": [
    "df_track.info()"
   ]
  },
  {
   "cell_type": "code",
   "execution_count": 8,
   "metadata": {},
   "outputs": [
    {
     "name": "stdout",
     "output_type": "stream",
     "text": [
      "<class 'pandas.core.frame.DataFrame'>\n",
      "Int64Index: 24544 entries, 0 to 24543\n",
      "Data columns (total 5 columns):\n",
      " #   Column      Non-Null Count  Dtype \n",
      "---  ------      --------------  ----- \n",
      " 0   followers   24544 non-null  int64 \n",
      " 1   genres      24544 non-null  object\n",
      " 2   id          24544 non-null  object\n",
      " 3   name        24544 non-null  object\n",
      " 4   popularity  24544 non-null  int64 \n",
      "dtypes: int64(2), object(3)\n",
      "memory usage: 1.1+ MB\n"
     ]
    }
   ],
   "source": [
    "df_artist.info()"
   ]
  },
  {
   "cell_type": "markdown",
   "metadata": {},
   "source": [
    "### Giải thích các cột trong df_track\n",
    "|STT|Tên cột|Ý nghĩa|\n",
    "|---|---|---|\n",
    "|0  |artists |ID Spotify của các nghệ sĩ trình bày ca khúc, cách nhau bởi dấu \",\" |\n",
    "|1  |available_markets   |Các khu vực trên thế giới có thể nghe bài hát, mỗi nước là một code 2 chữ in hoa, cách nhau bởi dấu \",\"|\n",
    "|2  |explicit            |True nếu bài hát chứa nội dung không phù hợp cho mọi đối tượng, ngược lại là False|\n",
    "|3  |popularity          |Độ yêu thích, từ 0-100|\n",
    "|4  |danceability        |Mức độ phù hợp của bài hát để nhảy, đo từ 0-1|\n",
    "|5  |energy              |Mức độ sôi động của bài hát, đo từ 0-1|\n",
    "|6  |key                 |Tông của bài hát, nếu không xác định, nhận giá trị là -1|\n",
    "|7  |loudness            |Độ lớn db của bài hát từ -60 - 0|\n",
    "|8  |mode                |1 cho biết bài hát viết theo \"major\", 0 là \"minor\"|\n",
    "|9  |speechiness         |Từ 0-1, 0 có nghĩa bài hát không có lời, 1 có nghĩa bài hát có phần lời phức tạp|\n",
    "|10 |acousticness        |Từ 0-1, khả năng bài hát có thể trình bày dưới dạng acoustic|\n",
    "|11 |instrumentalness    |Từ 0-1, càng nhỏ cho thấy bài hát có phần lời ít|\n",
    "|12 |liveness            |Từ 0-1, mức độ phù hợp để trình diễn trực tiếp|\n",
    "|13 |valence             |Từ 0-1, mức độ tích cực của nội dung bài hát|\n",
    "|14 |tempo               |Từ 0-1, độ nhanh của nhạc nền (số beat trên 1 phút)|\n",
    "|15 |type            |Kiểu dữ liệu trả về khi gọi api, tất cả đều là \"audio features\"|\n",
    "|16 |uri             |URI của bài hát|\n",
    "|17 |track_href      |Link tới bài hát|\n",
    "|18 |analysis_url    |Link tới phần đặc trưng âm thanh của bài hát|\n",
    "|19 |duration_ms     |Độ dài bài hát|\n",
    "|20 |time_signature  |Số beat của 1 câu trong bài hát|"
   ]
  },
  {
   "cell_type": "markdown",
   "metadata": {},
   "source": [
    "### Giải thích các cột trong df_artist\n",
    "|STT|Tên cột|Ý nghĩa|\n",
    "|---|---|---|\n",
    "|0  |followers |Số người theo dõi|\n",
    "|1  |genres   |Thể loại theo đuổi, có dạng một list các str|\n",
    "|2  |name            |Tên nghệ sĩ|\n",
    "|3  |popularity          |Độ yêu thích, từ 0-100|"
   ]
  },
  {
   "cell_type": "markdown",
   "metadata": {},
   "source": [
    "### Bỏ các dòng không có giá trị available markets"
   ]
  },
  {
   "cell_type": "code",
   "execution_count": 9,
   "metadata": {},
   "outputs": [],
   "source": [
    "df_track = df_track.dropna(subset=[\"available_markets\"])"
   ]
  },
  {
   "cell_type": "code",
   "execution_count": 10,
   "metadata": {},
   "outputs": [
    {
     "name": "stdout",
     "output_type": "stream",
     "text": [
      "<class 'pandas.core.frame.DataFrame'>\n",
      "Int64Index: 52960 entries, 1 to 69159\n",
      "Data columns (total 23 columns):\n",
      " #   Column             Non-Null Count  Dtype  \n",
      "---  ------             --------------  -----  \n",
      " 0   id                 52960 non-null  object \n",
      " 1   name               52960 non-null  object \n",
      " 2   artists            52960 non-null  object \n",
      " 3   available_markets  52960 non-null  object \n",
      " 4   explicit           52960 non-null  bool   \n",
      " 5   popularity         52960 non-null  int64  \n",
      " 6   danceability       52960 non-null  float64\n",
      " 7   energy             52960 non-null  float64\n",
      " 8   key                52960 non-null  int64  \n",
      " 9   loudness           52960 non-null  float64\n",
      " 10  mode               52960 non-null  int64  \n",
      " 11  speechiness        52960 non-null  float64\n",
      " 12  acousticness       52960 non-null  float64\n",
      " 13  instrumentalness   52960 non-null  float64\n",
      " 14  liveness           52960 non-null  float64\n",
      " 15  valence            52960 non-null  float64\n",
      " 16  tempo              52960 non-null  float64\n",
      " 17  type               52960 non-null  object \n",
      " 18  uri                52960 non-null  object \n",
      " 19  track_href         52960 non-null  object \n",
      " 20  analysis_url       52960 non-null  object \n",
      " 21  duration_ms        52960 non-null  int64  \n",
      " 22  time_signature     52960 non-null  int64  \n",
      "dtypes: bool(1), float64(9), int64(5), object(8)\n",
      "memory usage: 9.3+ MB\n"
     ]
    }
   ],
   "source": [
    "df_track.info()"
   ]
  },
  {
   "cell_type": "code",
   "execution_count": 11,
   "metadata": {},
   "outputs": [
    {
     "data": {
      "text/html": [
       "<div>\n",
       "<style scoped>\n",
       "    .dataframe tbody tr th:only-of-type {\n",
       "        vertical-align: middle;\n",
       "    }\n",
       "\n",
       "    .dataframe tbody tr th {\n",
       "        vertical-align: top;\n",
       "    }\n",
       "\n",
       "    .dataframe thead th {\n",
       "        text-align: right;\n",
       "    }\n",
       "</style>\n",
       "<table border=\"1\" class=\"dataframe\">\n",
       "  <thead>\n",
       "    <tr style=\"text-align: right;\">\n",
       "      <th></th>\n",
       "      <th>popularity</th>\n",
       "      <th>danceability</th>\n",
       "      <th>energy</th>\n",
       "      <th>key</th>\n",
       "      <th>loudness</th>\n",
       "      <th>mode</th>\n",
       "      <th>speechiness</th>\n",
       "      <th>acousticness</th>\n",
       "      <th>instrumentalness</th>\n",
       "      <th>liveness</th>\n",
       "      <th>valence</th>\n",
       "      <th>tempo</th>\n",
       "      <th>duration_ms</th>\n",
       "      <th>time_signature</th>\n",
       "    </tr>\n",
       "  </thead>\n",
       "  <tbody>\n",
       "    <tr>\n",
       "      <th>count</th>\n",
       "      <td>52960.000000</td>\n",
       "      <td>52960.000000</td>\n",
       "      <td>52960.000000</td>\n",
       "      <td>52960.000000</td>\n",
       "      <td>52960.000000</td>\n",
       "      <td>52960.000000</td>\n",
       "      <td>52960.000000</td>\n",
       "      <td>52960.000000</td>\n",
       "      <td>52960.000000</td>\n",
       "      <td>52960.000000</td>\n",
       "      <td>52960.000000</td>\n",
       "      <td>52960.000000</td>\n",
       "      <td>5.296000e+04</td>\n",
       "      <td>52960.000000</td>\n",
       "    </tr>\n",
       "    <tr>\n",
       "      <th>mean</th>\n",
       "      <td>41.531495</td>\n",
       "      <td>0.547433</td>\n",
       "      <td>0.530125</td>\n",
       "      <td>5.232043</td>\n",
       "      <td>-10.975564</td>\n",
       "      <td>0.657364</td>\n",
       "      <td>0.133553</td>\n",
       "      <td>0.398790</td>\n",
       "      <td>0.191046</td>\n",
       "      <td>0.187761</td>\n",
       "      <td>0.430771</td>\n",
       "      <td>117.047008</td>\n",
       "      <td>2.643678e+05</td>\n",
       "      <td>3.848792</td>\n",
       "    </tr>\n",
       "    <tr>\n",
       "      <th>std</th>\n",
       "      <td>19.766221</td>\n",
       "      <td>0.188150</td>\n",
       "      <td>0.292735</td>\n",
       "      <td>3.563017</td>\n",
       "      <td>7.311791</td>\n",
       "      <td>0.474595</td>\n",
       "      <td>0.218238</td>\n",
       "      <td>0.369278</td>\n",
       "      <td>0.338346</td>\n",
       "      <td>0.159011</td>\n",
       "      <td>0.255433</td>\n",
       "      <td>31.227145</td>\n",
       "      <td>2.578945e+05</td>\n",
       "      <td>0.570509</td>\n",
       "    </tr>\n",
       "    <tr>\n",
       "      <th>min</th>\n",
       "      <td>0.000000</td>\n",
       "      <td>0.000000</td>\n",
       "      <td>0.000000</td>\n",
       "      <td>0.000000</td>\n",
       "      <td>-54.837000</td>\n",
       "      <td>0.000000</td>\n",
       "      <td>0.000000</td>\n",
       "      <td>0.000000</td>\n",
       "      <td>0.000000</td>\n",
       "      <td>0.000000</td>\n",
       "      <td>0.000000</td>\n",
       "      <td>0.000000</td>\n",
       "      <td>4.000000e+03</td>\n",
       "      <td>0.000000</td>\n",
       "    </tr>\n",
       "    <tr>\n",
       "      <th>25%</th>\n",
       "      <td>30.000000</td>\n",
       "      <td>0.430000</td>\n",
       "      <td>0.281000</td>\n",
       "      <td>2.000000</td>\n",
       "      <td>-14.050000</td>\n",
       "      <td>0.000000</td>\n",
       "      <td>0.036000</td>\n",
       "      <td>0.035100</td>\n",
       "      <td>0.000000</td>\n",
       "      <td>0.096800</td>\n",
       "      <td>0.223000</td>\n",
       "      <td>94.018750</td>\n",
       "      <td>1.799568e+05</td>\n",
       "      <td>4.000000</td>\n",
       "    </tr>\n",
       "    <tr>\n",
       "      <th>50%</th>\n",
       "      <td>43.000000</td>\n",
       "      <td>0.571000</td>\n",
       "      <td>0.565000</td>\n",
       "      <td>5.000000</td>\n",
       "      <td>-8.461000</td>\n",
       "      <td>1.000000</td>\n",
       "      <td>0.048700</td>\n",
       "      <td>0.282000</td>\n",
       "      <td>0.000191</td>\n",
       "      <td>0.122000</td>\n",
       "      <td>0.410000</td>\n",
       "      <td>116.966500</td>\n",
       "      <td>2.158800e+05</td>\n",
       "      <td>4.000000</td>\n",
       "    </tr>\n",
       "    <tr>\n",
       "      <th>75%</th>\n",
       "      <td>56.000000</td>\n",
       "      <td>0.686000</td>\n",
       "      <td>0.782000</td>\n",
       "      <td>8.000000</td>\n",
       "      <td>-5.756750</td>\n",
       "      <td>1.000000</td>\n",
       "      <td>0.097100</td>\n",
       "      <td>0.782000</td>\n",
       "      <td>0.171250</td>\n",
       "      <td>0.225000</td>\n",
       "      <td>0.624000</td>\n",
       "      <td>135.956000</td>\n",
       "      <td>2.656310e+05</td>\n",
       "      <td>4.000000</td>\n",
       "    </tr>\n",
       "    <tr>\n",
       "      <th>max</th>\n",
       "      <td>100.000000</td>\n",
       "      <td>0.981000</td>\n",
       "      <td>1.000000</td>\n",
       "      <td>11.000000</td>\n",
       "      <td>1.342000</td>\n",
       "      <td>1.000000</td>\n",
       "      <td>0.969000</td>\n",
       "      <td>0.996000</td>\n",
       "      <td>1.000000</td>\n",
       "      <td>0.993000</td>\n",
       "      <td>0.999000</td>\n",
       "      <td>230.781000</td>\n",
       "      <td>5.505831e+06</td>\n",
       "      <td>5.000000</td>\n",
       "    </tr>\n",
       "  </tbody>\n",
       "</table>\n",
       "</div>"
      ],
      "text/plain": [
       "         popularity  danceability        energy           key      loudness  \\\n",
       "count  52960.000000  52960.000000  52960.000000  52960.000000  52960.000000   \n",
       "mean      41.531495      0.547433      0.530125      5.232043    -10.975564   \n",
       "std       19.766221      0.188150      0.292735      3.563017      7.311791   \n",
       "min        0.000000      0.000000      0.000000      0.000000    -54.837000   \n",
       "25%       30.000000      0.430000      0.281000      2.000000    -14.050000   \n",
       "50%       43.000000      0.571000      0.565000      5.000000     -8.461000   \n",
       "75%       56.000000      0.686000      0.782000      8.000000     -5.756750   \n",
       "max      100.000000      0.981000      1.000000     11.000000      1.342000   \n",
       "\n",
       "               mode   speechiness  acousticness  instrumentalness  \\\n",
       "count  52960.000000  52960.000000  52960.000000      52960.000000   \n",
       "mean       0.657364      0.133553      0.398790          0.191046   \n",
       "std        0.474595      0.218238      0.369278          0.338346   \n",
       "min        0.000000      0.000000      0.000000          0.000000   \n",
       "25%        0.000000      0.036000      0.035100          0.000000   \n",
       "50%        1.000000      0.048700      0.282000          0.000191   \n",
       "75%        1.000000      0.097100      0.782000          0.171250   \n",
       "max        1.000000      0.969000      0.996000          1.000000   \n",
       "\n",
       "           liveness       valence         tempo   duration_ms  time_signature  \n",
       "count  52960.000000  52960.000000  52960.000000  5.296000e+04    52960.000000  \n",
       "mean       0.187761      0.430771    117.047008  2.643678e+05        3.848792  \n",
       "std        0.159011      0.255433     31.227145  2.578945e+05        0.570509  \n",
       "min        0.000000      0.000000      0.000000  4.000000e+03        0.000000  \n",
       "25%        0.096800      0.223000     94.018750  1.799568e+05        4.000000  \n",
       "50%        0.122000      0.410000    116.966500  2.158800e+05        4.000000  \n",
       "75%        0.225000      0.624000    135.956000  2.656310e+05        4.000000  \n",
       "max        0.993000      0.999000    230.781000  5.505831e+06        5.000000  "
      ]
     },
     "execution_count": 11,
     "metadata": {},
     "output_type": "execute_result"
    }
   ],
   "source": [
    "df_track.describe()"
   ]
  },
  {
   "cell_type": "markdown",
   "metadata": {},
   "source": [
    "### Chia dữ liệu thành train set, dev set và test set"
   ]
  },
  {
   "cell_type": "code",
   "execution_count": 12,
   "metadata": {},
   "outputs": [],
   "source": [
    "from sklearn.model_selection import train_test_split"
   ]
  },
  {
   "cell_type": "code",
   "execution_count": 13,
   "metadata": {},
   "outputs": [],
   "source": [
    "df_train, df_test = train_test_split(df_track, random_state=0, test_size=0.2)\n",
    "df_test , df_dev = train_test_split(df_test, random_state=0 , test_size=0.5)"
   ]
  },
  {
   "cell_type": "code",
   "execution_count": 14,
   "metadata": {},
   "outputs": [
    {
     "name": "stdout",
     "output_type": "stream",
     "text": [
      "Train: (42368, 23)\n",
      "Dev:   (5296, 23)\n",
      "Test:  (5296, 23)\n"
     ]
    }
   ],
   "source": [
    "df_train.shape, df_dev.shape, df_test.shape\n",
    "\n",
    "print(\"Train:\", df_train.shape)\n",
    "print(\"Dev:  \", df_dev.shape)\n",
    "print(\"Test: \", df_test.shape)"
   ]
  },
  {
   "cell_type": "markdown",
   "metadata": {},
   "source": [
    "### Phân tích về Popularity"
   ]
  },
  {
   "cell_type": "code",
   "execution_count": 15,
   "metadata": {},
   "outputs": [
    {
     "data": {
      "text/plain": [
       "42542    63\n",
       "18998    49\n",
       "15138    26\n",
       "23134     8\n",
       "15572    65\n",
       "         ..\n",
       "59898    56\n",
       "68464    41\n",
       "55604    34\n",
       "56846    60\n",
       "3529     47\n",
       "Name: popularity, Length: 42368, dtype: int64"
      ]
     },
     "execution_count": 15,
     "metadata": {},
     "output_type": "execute_result"
    }
   ],
   "source": [
    "pop = df_train.popularity.copy()\n",
    "pop"
   ]
  },
  {
   "cell_type": "code",
   "execution_count": 16,
   "metadata": {},
   "outputs": [
    {
     "data": {
      "image/png": "[encoded data removed]",
      "text/plain": [
       "<Figure size 432x288 with 1 Axes>"
      ]
     },
     "metadata": {
      "needs_background": "light"
     },
     "output_type": "display_data"
    }
   ],
   "source": [
    "sns.distplot(pop, np.arange(0, 101));\n",
    "# plt.savefig('./image/pop-dist.pn')"
   ]
  },
  {
   "cell_type": "markdown",
   "metadata": {},
   "source": [
    "Có thể thấy dữ liệu nhìn chung có dạng phân phối chuẩn, tuy nhiên có một lượng lớn dữ liệu nằm ở đoạn 0-5"
   ]
  },
  {
   "cell_type": "code",
   "execution_count": 17,
   "metadata": {},
   "outputs": [
    {
     "data": {
      "image/png": "[encoded data removed]",
      "text/plain": [
       "<Figure size 432x288 with 1 Axes>"
      ]
     },
     "metadata": {
      "needs_background": "light"
     },
     "output_type": "display_data"
    }
   ],
   "source": [
    "sns.distplot(pop[pop > 5], np.arange(0, 101));\n",
    "plt.savefig('./image/popfrom5-dist.png')"
   ]
  },
  {
   "cell_type": "markdown",
   "metadata": {},
   "source": [
    "Đồ thị phân phối của dữ liệu bỏ qua các điểm popularity 0-5"
   ]
  },
  {
   "cell_type": "markdown",
   "metadata": {},
   "source": [
    "Xét hai phần dữ liệu riêng"
   ]
  },
  {
   "cell_type": "code",
   "execution_count": 18,
   "metadata": {},
   "outputs": [],
   "source": [
    "first = df_train[pop <= 5]\n",
    "second= df_train[pop >  5]"
   ]
  },
  {
   "cell_type": "code",
   "execution_count": 19,
   "metadata": {},
   "outputs": [
    {
     "data": {
      "text/html": [
       "<div>\n",
       "<style scoped>\n",
       "    .dataframe tbody tr th:only-of-type {\n",
       "        vertical-align: middle;\n",
       "    }\n",
       "\n",
       "    .dataframe tbody tr th {\n",
       "        vertical-align: top;\n",
       "    }\n",
       "\n",
       "    .dataframe thead th {\n",
       "        text-align: right;\n",
       "    }\n",
       "</style>\n",
       "<table border=\"1\" class=\"dataframe\">\n",
       "  <thead>\n",
       "    <tr style=\"text-align: right;\">\n",
       "      <th></th>\n",
       "      <th>popularity</th>\n",
       "      <th>danceability</th>\n",
       "      <th>energy</th>\n",
       "      <th>key</th>\n",
       "      <th>loudness</th>\n",
       "      <th>mode</th>\n",
       "      <th>speechiness</th>\n",
       "      <th>acousticness</th>\n",
       "      <th>instrumentalness</th>\n",
       "      <th>liveness</th>\n",
       "      <th>valence</th>\n",
       "      <th>tempo</th>\n",
       "      <th>duration_ms</th>\n",
       "      <th>time_signature</th>\n",
       "    </tr>\n",
       "  </thead>\n",
       "  <tbody>\n",
       "    <tr>\n",
       "      <th>&lt;=5 mean</th>\n",
       "      <td>1.430186</td>\n",
       "      <td>0.597565</td>\n",
       "      <td>0.241285</td>\n",
       "      <td>5.520612</td>\n",
       "      <td>-19.227670</td>\n",
       "      <td>0.669548</td>\n",
       "      <td>0.616892</td>\n",
       "      <td>0.665487</td>\n",
       "      <td>0.063067</td>\n",
       "      <td>0.222740</td>\n",
       "      <td>0.384553</td>\n",
       "      <td>105.055782</td>\n",
       "      <td>504587.880652</td>\n",
       "      <td>3.518617</td>\n",
       "    </tr>\n",
       "    <tr>\n",
       "      <th>&gt;5 mean</th>\n",
       "      <td>44.633028</td>\n",
       "      <td>0.543124</td>\n",
       "      <td>0.552208</td>\n",
       "      <td>5.206885</td>\n",
       "      <td>-10.333199</td>\n",
       "      <td>0.657063</td>\n",
       "      <td>0.096107</td>\n",
       "      <td>0.379053</td>\n",
       "      <td>0.200102</td>\n",
       "      <td>0.185245</td>\n",
       "      <td>0.433524</td>\n",
       "      <td>118.086586</td>\n",
       "      <td>246395.759756</td>\n",
       "      <td>3.874365</td>\n",
       "    </tr>\n",
       "    <tr>\n",
       "      <th>&lt;=5 std</th>\n",
       "      <td>1.641795</td>\n",
       "      <td>0.166707</td>\n",
       "      <td>0.213409</td>\n",
       "      <td>3.644071</td>\n",
       "      <td>6.772403</td>\n",
       "      <td>0.470454</td>\n",
       "      <td>0.362059</td>\n",
       "      <td>0.293060</td>\n",
       "      <td>0.205988</td>\n",
       "      <td>0.166361</td>\n",
       "      <td>0.212407</td>\n",
       "      <td>35.805500</td>\n",
       "      <td>687928.729844</td>\n",
       "      <td>1.047739</td>\n",
       "    </tr>\n",
       "    <tr>\n",
       "      <th>&gt;5 std</th>\n",
       "      <td>16.950027</td>\n",
       "      <td>0.189164</td>\n",
       "      <td>0.285867</td>\n",
       "      <td>3.555015</td>\n",
       "      <td>6.958044</td>\n",
       "      <td>0.474697</td>\n",
       "      <td>0.147097</td>\n",
       "      <td>0.366724</td>\n",
       "      <td>0.343669</td>\n",
       "      <td>0.158562</td>\n",
       "      <td>0.257625</td>\n",
       "      <td>30.670150</td>\n",
       "      <td>174069.176278</td>\n",
       "      <td>0.506211</td>\n",
       "    </tr>\n",
       "  </tbody>\n",
       "</table>\n",
       "</div>"
      ],
      "text/plain": [
       "          popularity  danceability    energy       key   loudness      mode  \\\n",
       "<=5 mean    1.430186      0.597565  0.241285  5.520612 -19.227670  0.669548   \n",
       ">5 mean    44.633028      0.543124  0.552208  5.206885 -10.333199  0.657063   \n",
       "<=5 std     1.641795      0.166707  0.213409  3.644071   6.772403  0.470454   \n",
       ">5 std     16.950027      0.189164  0.285867  3.555015   6.958044  0.474697   \n",
       "\n",
       "          speechiness  acousticness  instrumentalness  liveness   valence  \\\n",
       "<=5 mean     0.616892      0.665487          0.063067  0.222740  0.384553   \n",
       ">5 mean      0.096107      0.379053          0.200102  0.185245  0.433524   \n",
       "<=5 std      0.362059      0.293060          0.205988  0.166361  0.212407   \n",
       ">5 std       0.147097      0.366724          0.343669  0.158562  0.257625   \n",
       "\n",
       "               tempo    duration_ms  time_signature  \n",
       "<=5 mean  105.055782  504587.880652        3.518617  \n",
       ">5 mean   118.086586  246395.759756        3.874365  \n",
       "<=5 std    35.805500  687928.729844        1.047739  \n",
       ">5 std     30.670150  174069.176278        0.506211  "
      ]
     },
     "execution_count": 19,
     "metadata": {},
     "output_type": "execute_result"
    }
   ],
   "source": [
    "f = first.select_dtypes([\"int64\", \"float64\"])\n",
    "s = second.select_dtypes([\"int64\", \"float64\"])\n",
    "\n",
    "fs = pd.concat([f.mean(), s.mean(), f.std(), s.std()],axis=1)\n",
    "fs.columns = columns=[\"<=5 mean\", \">5 mean\", \"<=5 std\", \">5 std\"]\n",
    "fs = fs.T\n",
    "fs"
   ]
  },
  {
   "cell_type": "markdown",
   "metadata": {},
   "source": [
    "Ta thấy ở các biến số, thì duration_ms có sự khác biệt lớn nhất giữa hai nhóm, các track có popularity <= 5 có độ dài biến thiên lớn, gồm các bài rất ngắn hoặc rất dài, trong khi các bài > 5 thì biến động ít hơn."
   ]
  },
  {
   "cell_type": "code",
   "execution_count": 20,
   "metadata": {},
   "outputs": [
    {
     "data": {
      "image/png": "[encoded data removed]",
      "text/plain": [
       "<Figure size 720x576 with 1 Axes>"
      ]
     },
     "metadata": {
      "needs_background": "light"
     },
     "output_type": "display_data"
    }
   ],
   "source": [
    "plt.figure(figsize=(10, 8))\n",
    "sns.distplot(f[f.duration_ms <= 1e6].duration_ms, label=\"<=5\")\n",
    "sns.distplot(s[s.duration_ms <= 1e6].duration_ms, label=\">5\")\n",
    "plt.legend();\n",
    "plt.savefig('./image/popvsDuration-dist.png')\n"
   ]
  },
  {
   "cell_type": "markdown",
   "metadata": {},
   "source": [
    "### Phân tích về các khu vực phát hành\n",
    "\n",
    "Câu hỏi: việc có hoặc không phát hành tại mỗi khu vực có ảnh hưởng như thế nào đến độ yêu thích của bài hát.\n",
    "\n",
    "Ích lợi: cho biết nên ưu tiên phát hành ở thị trường nào."
   ]
  },
  {
   "cell_type": "markdown",
   "metadata": {},
   "source": [
    "Do phần này thời gian chạy lâu nên em sẽ chỉ chạy trên một sample của df_train"
   ]
  },
  {
   "cell_type": "code",
   "execution_count": 21,
   "metadata": {},
   "outputs": [],
   "source": [
    "df_train_sample = df_train.sample(5000, random_state=0)"
   ]
  },
  {
   "cell_type": "code",
   "execution_count": 22,
   "metadata": {},
   "outputs": [
    {
     "data": {
      "text/html": [
       "<div>\n",
       "<style scoped>\n",
       "    .dataframe tbody tr th:only-of-type {\n",
       "        vertical-align: middle;\n",
       "    }\n",
       "\n",
       "    .dataframe tbody tr th {\n",
       "        vertical-align: top;\n",
       "    }\n",
       "\n",
       "    .dataframe thead th {\n",
       "        text-align: right;\n",
       "    }\n",
       "</style>\n",
       "<table border=\"1\" class=\"dataframe\">\n",
       "  <thead>\n",
       "    <tr style=\"text-align: right;\">\n",
       "      <th></th>\n",
       "      <th>available_markets</th>\n",
       "      <th>popularity</th>\n",
       "    </tr>\n",
       "  </thead>\n",
       "  <tbody>\n",
       "    <tr>\n",
       "      <th>44589</th>\n",
       "      <td>[AD, AE, AL, AR, AT, AU, BA, BE, BG, BH, BO, B...</td>\n",
       "      <td>48</td>\n",
       "    </tr>\n",
       "    <tr>\n",
       "      <th>58777</th>\n",
       "      <td>[AD, AE, AL, AR, AT, AU, BA, BE, BG, BH, BO, B...</td>\n",
       "      <td>0</td>\n",
       "    </tr>\n",
       "    <tr>\n",
       "      <th>1388</th>\n",
       "      <td>[AD, AE, AL, AR, AT, AU, BA, BE, BG, BH, BO, B...</td>\n",
       "      <td>54</td>\n",
       "    </tr>\n",
       "    <tr>\n",
       "      <th>12429</th>\n",
       "      <td>[AD, AE, AL, AR, AT, AU, BA, BE, BG, BH, BO, B...</td>\n",
       "      <td>31</td>\n",
       "    </tr>\n",
       "    <tr>\n",
       "      <th>32246</th>\n",
       "      <td>[AD, AE, AL, AR, AT, AU, BA, BE, BG, BH, BO, B...</td>\n",
       "      <td>32</td>\n",
       "    </tr>\n",
       "    <tr>\n",
       "      <th>...</th>\n",
       "      <td>...</td>\n",
       "      <td>...</td>\n",
       "    </tr>\n",
       "    <tr>\n",
       "      <th>8467</th>\n",
       "      <td>[AD, AE, AL, AR, AT, AU, BA, BE, BG, BH, BO, B...</td>\n",
       "      <td>29</td>\n",
       "    </tr>\n",
       "    <tr>\n",
       "      <th>61563</th>\n",
       "      <td>[AD, AE, AL, AR, AT, AU, BA, BE, BG, BH, BO, B...</td>\n",
       "      <td>73</td>\n",
       "    </tr>\n",
       "    <tr>\n",
       "      <th>56006</th>\n",
       "      <td>[AD, AE, AL, AR, AT, AU, BA, BE, BG, BH, BO, B...</td>\n",
       "      <td>73</td>\n",
       "    </tr>\n",
       "    <tr>\n",
       "      <th>9074</th>\n",
       "      <td>[CA, MX, US]</td>\n",
       "      <td>34</td>\n",
       "    </tr>\n",
       "    <tr>\n",
       "      <th>50343</th>\n",
       "      <td>[AD, AT, AU, BE, CA, CH, DE, DK, EE, ES, FI, G...</td>\n",
       "      <td>38</td>\n",
       "    </tr>\n",
       "  </tbody>\n",
       "</table>\n",
       "<p>5000 rows × 2 columns</p>\n",
       "</div>"
      ],
      "text/plain": [
       "                                       available_markets  popularity\n",
       "44589  [AD, AE, AL, AR, AT, AU, BA, BE, BG, BH, BO, B...          48\n",
       "58777  [AD, AE, AL, AR, AT, AU, BA, BE, BG, BH, BO, B...           0\n",
       "1388   [AD, AE, AL, AR, AT, AU, BA, BE, BG, BH, BO, B...          54\n",
       "12429  [AD, AE, AL, AR, AT, AU, BA, BE, BG, BH, BO, B...          31\n",
       "32246  [AD, AE, AL, AR, AT, AU, BA, BE, BG, BH, BO, B...          32\n",
       "...                                                  ...         ...\n",
       "8467   [AD, AE, AL, AR, AT, AU, BA, BE, BG, BH, BO, B...          29\n",
       "61563  [AD, AE, AL, AR, AT, AU, BA, BE, BG, BH, BO, B...          73\n",
       "56006  [AD, AE, AL, AR, AT, AU, BA, BE, BG, BH, BO, B...          73\n",
       "9074                                        [CA, MX, US]          34\n",
       "50343  [AD, AT, AU, BE, CA, CH, DE, DK, EE, ES, FI, G...          38\n",
       "\n",
       "[5000 rows x 2 columns]"
      ]
     },
     "execution_count": 22,
     "metadata": {},
     "output_type": "execute_result"
    }
   ],
   "source": [
    "df_01 = df_train_sample[[\"available_markets\", \"popularity\"]].copy()\n",
    "df_01[\"available_markets\"] = df_01[\"available_markets\"].apply(lambda x : x.split(\",\"))\n",
    "df_01"
   ]
  },
  {
   "cell_type": "code",
   "execution_count": 23,
   "metadata": {},
   "outputs": [],
   "source": [
    "all_areas = df_01[\"available_markets\"].explode().unique()\n",
    "\n",
    "for a in all_areas:\n",
    "    df_01[f\"in_{a}\"] = df_01[\"available_markets\"].apply(lambda x : a in x)\n",
    "\n",
    "cor    = df_01.corrwith(df_01.popularity).drop(\"popularity\")\n",
    "mean   = df_01.mean().drop(\"popularity\")"
   ]
  },
  {
   "cell_type": "code",
   "execution_count": 24,
   "metadata": {},
   "outputs": [
    {
     "data": {
      "text/html": [
       "<div>\n",
       "<style scoped>\n",
       "    .dataframe tbody tr th:only-of-type {\n",
       "        vertical-align: middle;\n",
       "    }\n",
       "\n",
       "    .dataframe tbody tr th {\n",
       "        vertical-align: top;\n",
       "    }\n",
       "\n",
       "    .dataframe thead th {\n",
       "        text-align: right;\n",
       "    }\n",
       "</style>\n",
       "<table border=\"1\" class=\"dataframe\">\n",
       "  <thead>\n",
       "    <tr style=\"text-align: right;\">\n",
       "      <th></th>\n",
       "      <th>correlate</th>\n",
       "      <th>percent</th>\n",
       "    </tr>\n",
       "  </thead>\n",
       "  <tbody>\n",
       "    <tr>\n",
       "      <th>in_ME</th>\n",
       "      <td>0.217966</td>\n",
       "      <td>0.8584</td>\n",
       "    </tr>\n",
       "    <tr>\n",
       "      <th>in_RS</th>\n",
       "      <td>0.214627</td>\n",
       "      <td>0.8472</td>\n",
       "    </tr>\n",
       "    <tr>\n",
       "      <th>in_XK</th>\n",
       "      <td>0.214627</td>\n",
       "      <td>0.8472</td>\n",
       "    </tr>\n",
       "    <tr>\n",
       "      <th>in_US</th>\n",
       "      <td>0.094056</td>\n",
       "      <td>0.9104</td>\n",
       "    </tr>\n",
       "    <tr>\n",
       "      <th>in_JP</th>\n",
       "      <td>0.091610</td>\n",
       "      <td>0.8662</td>\n",
       "    </tr>\n",
       "    <tr>\n",
       "      <th>in_MX</th>\n",
       "      <td>0.076699</td>\n",
       "      <td>0.9178</td>\n",
       "    </tr>\n",
       "    <tr>\n",
       "      <th>in_SG</th>\n",
       "      <td>0.063622</td>\n",
       "      <td>0.9096</td>\n",
       "    </tr>\n",
       "    <tr>\n",
       "      <th>in_AL</th>\n",
       "      <td>0.060185</td>\n",
       "      <td>0.8918</td>\n",
       "    </tr>\n",
       "    <tr>\n",
       "      <th>in_MK</th>\n",
       "      <td>0.058947</td>\n",
       "      <td>0.8996</td>\n",
       "    </tr>\n",
       "    <tr>\n",
       "      <th>in_AU</th>\n",
       "      <td>0.058597</td>\n",
       "      <td>0.8914</td>\n",
       "    </tr>\n",
       "  </tbody>\n",
       "</table>\n",
       "</div>"
      ],
      "text/plain": [
       "       correlate  percent\n",
       "in_ME   0.217966   0.8584\n",
       "in_RS   0.214627   0.8472\n",
       "in_XK   0.214627   0.8472\n",
       "in_US   0.094056   0.9104\n",
       "in_JP   0.091610   0.8662\n",
       "in_MX   0.076699   0.9178\n",
       "in_SG   0.063622   0.9096\n",
       "in_AL   0.060185   0.8918\n",
       "in_MK   0.058947   0.8996\n",
       "in_AU   0.058597   0.8914"
      ]
     },
     "execution_count": 24,
     "metadata": {},
     "output_type": "execute_result"
    }
   ],
   "source": [
    "result = pd.concat({\"correlate\": cor, \"percent\": mean}, axis=1)\n",
    "result.nlargest(10, columns=[\"correlate\"])"
   ]
  },
  {
   "cell_type": "code",
   "execution_count": 25,
   "metadata": {},
   "outputs": [
    {
     "data": {
      "text/html": [
       "<div>\n",
       "<style scoped>\n",
       "    .dataframe tbody tr th:only-of-type {\n",
       "        vertical-align: middle;\n",
       "    }\n",
       "\n",
       "    .dataframe tbody tr th {\n",
       "        vertical-align: top;\n",
       "    }\n",
       "\n",
       "    .dataframe thead th {\n",
       "        text-align: right;\n",
       "    }\n",
       "</style>\n",
       "<table border=\"1\" class=\"dataframe\">\n",
       "  <thead>\n",
       "    <tr style=\"text-align: right;\">\n",
       "      <th></th>\n",
       "      <th>correlate</th>\n",
       "      <th>percent</th>\n",
       "    </tr>\n",
       "  </thead>\n",
       "  <tbody>\n",
       "    <tr>\n",
       "      <th>count</th>\n",
       "      <td>92.000000</td>\n",
       "      <td>92.000000</td>\n",
       "    </tr>\n",
       "    <tr>\n",
       "      <th>mean</th>\n",
       "      <td>0.054499</td>\n",
       "      <td>0.903193</td>\n",
       "    </tr>\n",
       "    <tr>\n",
       "      <th>std</th>\n",
       "      <td>0.031885</td>\n",
       "      <td>0.012728</td>\n",
       "    </tr>\n",
       "    <tr>\n",
       "      <th>min</th>\n",
       "      <td>0.019247</td>\n",
       "      <td>0.847200</td>\n",
       "    </tr>\n",
       "    <tr>\n",
       "      <th>25%</th>\n",
       "      <td>0.044355</td>\n",
       "      <td>0.902600</td>\n",
       "    </tr>\n",
       "    <tr>\n",
       "      <th>50%</th>\n",
       "      <td>0.052283</td>\n",
       "      <td>0.906900</td>\n",
       "    </tr>\n",
       "    <tr>\n",
       "      <th>75%</th>\n",
       "      <td>0.054635</td>\n",
       "      <td>0.909300</td>\n",
       "    </tr>\n",
       "    <tr>\n",
       "      <th>max</th>\n",
       "      <td>0.217966</td>\n",
       "      <td>0.917800</td>\n",
       "    </tr>\n",
       "  </tbody>\n",
       "</table>\n",
       "</div>"
      ],
      "text/plain": [
       "       correlate    percent\n",
       "count  92.000000  92.000000\n",
       "mean    0.054499   0.903193\n",
       "std     0.031885   0.012728\n",
       "min     0.019247   0.847200\n",
       "25%     0.044355   0.902600\n",
       "50%     0.052283   0.906900\n",
       "75%     0.054635   0.909300\n",
       "max     0.217966   0.917800"
      ]
     },
     "execution_count": 25,
     "metadata": {},
     "output_type": "execute_result"
    }
   ],
   "source": [
    "result.describe()"
   ]
  },
  {
   "cell_type": "code",
   "execution_count": 26,
   "metadata": {},
   "outputs": [
    {
     "data": {
      "image/png": "[encoded data removed]",
      "text/plain": [
       "<Figure size 1152x576 with 3 Axes>"
      ]
     },
     "metadata": {
      "needs_background": "light"
     },
     "output_type": "display_data"
    }
   ],
   "source": [
    "plt.figure(figsize=(16, 8))\n",
    "ax = plt.subplot(1, 3, 1)\n",
    "sns.boxplot(df_01[\"in_ME\"], df_01[\"popularity\"], ax=ax)\n",
    "ax = plt.subplot(1, 3, 2)\n",
    "sns.boxplot(df_01[\"in_RS\"], df_01[\"popularity\"], ax=ax)\n",
    "ax = plt.subplot(1, 3, 3)\n",
    "sns.boxplot(df_01[\"in_XK\"], df_01[\"popularity\"], ax=ax);"
   ]
  },
  {
   "cell_type": "markdown",
   "metadata": {},
   "source": [
    "Ta thấy ở các khu đã xét, các bài hát được phát hành tại những nơi này có độ yêu thích trung bình lớn hơn so với trung bình những bài không được phát hành ở đây. Như vậy có thể xét các cột in_ME, in_RS, in_XK này khi tạo mô hình dự đoán"
   ]
  },
  {
   "cell_type": "markdown",
   "metadata": {},
   "source": [
    "### Phân tích biến explicit"
   ]
  },
  {
   "cell_type": "code",
   "execution_count": 27,
   "metadata": {},
   "outputs": [
    {
     "data": {
      "text/html": [
       "<div>\n",
       "<style scoped>\n",
       "    .dataframe tbody tr th:only-of-type {\n",
       "        vertical-align: middle;\n",
       "    }\n",
       "\n",
       "    .dataframe tbody tr th {\n",
       "        vertical-align: top;\n",
       "    }\n",
       "\n",
       "    .dataframe thead th {\n",
       "        text-align: right;\n",
       "    }\n",
       "</style>\n",
       "<table border=\"1\" class=\"dataframe\">\n",
       "  <thead>\n",
       "    <tr style=\"text-align: right;\">\n",
       "      <th></th>\n",
       "      <th>explicit</th>\n",
       "      <th>popularity</th>\n",
       "    </tr>\n",
       "  </thead>\n",
       "  <tbody>\n",
       "    <tr>\n",
       "      <th>42542</th>\n",
       "      <td>False</td>\n",
       "      <td>63</td>\n",
       "    </tr>\n",
       "    <tr>\n",
       "      <th>18998</th>\n",
       "      <td>False</td>\n",
       "      <td>49</td>\n",
       "    </tr>\n",
       "    <tr>\n",
       "      <th>15138</th>\n",
       "      <td>False</td>\n",
       "      <td>26</td>\n",
       "    </tr>\n",
       "    <tr>\n",
       "      <th>23134</th>\n",
       "      <td>False</td>\n",
       "      <td>8</td>\n",
       "    </tr>\n",
       "    <tr>\n",
       "      <th>15572</th>\n",
       "      <td>False</td>\n",
       "      <td>65</td>\n",
       "    </tr>\n",
       "    <tr>\n",
       "      <th>...</th>\n",
       "      <td>...</td>\n",
       "      <td>...</td>\n",
       "    </tr>\n",
       "    <tr>\n",
       "      <th>59898</th>\n",
       "      <td>True</td>\n",
       "      <td>56</td>\n",
       "    </tr>\n",
       "    <tr>\n",
       "      <th>68464</th>\n",
       "      <td>False</td>\n",
       "      <td>41</td>\n",
       "    </tr>\n",
       "    <tr>\n",
       "      <th>55604</th>\n",
       "      <td>True</td>\n",
       "      <td>34</td>\n",
       "    </tr>\n",
       "    <tr>\n",
       "      <th>56846</th>\n",
       "      <td>False</td>\n",
       "      <td>60</td>\n",
       "    </tr>\n",
       "    <tr>\n",
       "      <th>3529</th>\n",
       "      <td>True</td>\n",
       "      <td>47</td>\n",
       "    </tr>\n",
       "  </tbody>\n",
       "</table>\n",
       "<p>42368 rows × 2 columns</p>\n",
       "</div>"
      ],
      "text/plain": [
       "       explicit  popularity\n",
       "42542     False          63\n",
       "18998     False          49\n",
       "15138     False          26\n",
       "23134     False           8\n",
       "15572     False          65\n",
       "...         ...         ...\n",
       "59898      True          56\n",
       "68464     False          41\n",
       "55604      True          34\n",
       "56846     False          60\n",
       "3529       True          47\n",
       "\n",
       "[42368 rows x 2 columns]"
      ]
     },
     "execution_count": 27,
     "metadata": {},
     "output_type": "execute_result"
    }
   ],
   "source": [
    "df_02 = df_train[[\"explicit\", \"popularity\"]].copy()\n",
    "df_02"
   ]
  },
  {
   "cell_type": "code",
   "execution_count": 28,
   "metadata": {},
   "outputs": [
    {
     "name": "stdout",
     "output_type": "stream",
     "text": [
      "Tỉ lệ giá trị True 0.0969363670694864\n"
     ]
    }
   ],
   "source": [
    "print(\"Tỉ lệ giá trị True\", df_02[\"explicit\"].mean())"
   ]
  },
  {
   "cell_type": "code",
   "execution_count": 29,
   "metadata": {},
   "outputs": [
    {
     "data": {
      "image/png": "[encoded data removed]",
      "text/plain": [
       "<Figure size 432x288 with 1 Axes>"
      ]
     },
     "metadata": {
      "needs_background": "light"
     },
     "output_type": "display_data"
    }
   ],
   "source": [
    "sns.boxplot(df_02[\"explicit\"], df_02[\"popularity\"]);\n",
    "plt.savefig('./image/explicit.png')"
   ]
  },
  {
   "cell_type": "markdown",
   "metadata": {},
   "source": [
    "Có sự khác nhau đối ở độ yêu thích giữa đối với bài hát explicit và không explicit, các bài hát explicit có độ yêu thích lớn hơn đáng kế, có thể giữ explicit là một đặc trưng để dự đoán"
   ]
  },
  {
   "cell_type": "markdown",
   "metadata": {},
   "source": [
    "### Plot giữa các cột dữ liệu số"
   ]
  },
  {
   "cell_type": "code",
   "execution_count": 30,
   "metadata": {},
   "outputs": [
    {
     "data": {
      "text/html": [
       "<div>\n",
       "<style scoped>\n",
       "    .dataframe tbody tr th:only-of-type {\n",
       "        vertical-align: middle;\n",
       "    }\n",
       "\n",
       "    .dataframe tbody tr th {\n",
       "        vertical-align: top;\n",
       "    }\n",
       "\n",
       "    .dataframe thead th {\n",
       "        text-align: right;\n",
       "    }\n",
       "</style>\n",
       "<table border=\"1\" class=\"dataframe\">\n",
       "  <thead>\n",
       "    <tr style=\"text-align: right;\">\n",
       "      <th></th>\n",
       "      <th>popularity</th>\n",
       "      <th>danceability</th>\n",
       "      <th>energy</th>\n",
       "      <th>key</th>\n",
       "      <th>loudness</th>\n",
       "      <th>mode</th>\n",
       "      <th>speechiness</th>\n",
       "      <th>acousticness</th>\n",
       "      <th>instrumentalness</th>\n",
       "      <th>liveness</th>\n",
       "      <th>valence</th>\n",
       "      <th>tempo</th>\n",
       "      <th>duration_ms</th>\n",
       "      <th>time_signature</th>\n",
       "    </tr>\n",
       "  </thead>\n",
       "  <tbody>\n",
       "    <tr>\n",
       "      <th>42542</th>\n",
       "      <td>63</td>\n",
       "      <td>0.365</td>\n",
       "      <td>0.89200</td>\n",
       "      <td>4</td>\n",
       "      <td>-8.036</td>\n",
       "      <td>0</td>\n",
       "      <td>0.0786</td>\n",
       "      <td>0.000033</td>\n",
       "      <td>0.09480</td>\n",
       "      <td>0.7510</td>\n",
       "      <td>0.1760</td>\n",
       "      <td>136.133</td>\n",
       "      <td>323373</td>\n",
       "      <td>4</td>\n",
       "    </tr>\n",
       "    <tr>\n",
       "      <th>18998</th>\n",
       "      <td>49</td>\n",
       "      <td>0.388</td>\n",
       "      <td>0.00843</td>\n",
       "      <td>9</td>\n",
       "      <td>-31.898</td>\n",
       "      <td>0</td>\n",
       "      <td>0.0540</td>\n",
       "      <td>0.994000</td>\n",
       "      <td>0.91900</td>\n",
       "      <td>0.0861</td>\n",
       "      <td>0.1790</td>\n",
       "      <td>114.314</td>\n",
       "      <td>453267</td>\n",
       "      <td>4</td>\n",
       "    </tr>\n",
       "    <tr>\n",
       "      <th>15138</th>\n",
       "      <td>26</td>\n",
       "      <td>0.756</td>\n",
       "      <td>0.87000</td>\n",
       "      <td>11</td>\n",
       "      <td>-3.059</td>\n",
       "      <td>0</td>\n",
       "      <td>0.1200</td>\n",
       "      <td>0.353000</td>\n",
       "      <td>0.00000</td>\n",
       "      <td>0.4950</td>\n",
       "      <td>0.6540</td>\n",
       "      <td>130.005</td>\n",
       "      <td>166407</td>\n",
       "      <td>4</td>\n",
       "    </tr>\n",
       "    <tr>\n",
       "      <th>23134</th>\n",
       "      <td>8</td>\n",
       "      <td>0.276</td>\n",
       "      <td>0.05580</td>\n",
       "      <td>0</td>\n",
       "      <td>-23.893</td>\n",
       "      <td>0</td>\n",
       "      <td>0.0328</td>\n",
       "      <td>0.984000</td>\n",
       "      <td>0.96000</td>\n",
       "      <td>0.1000</td>\n",
       "      <td>0.0620</td>\n",
       "      <td>175.533</td>\n",
       "      <td>252733</td>\n",
       "      <td>3</td>\n",
       "    </tr>\n",
       "    <tr>\n",
       "      <th>15572</th>\n",
       "      <td>65</td>\n",
       "      <td>0.513</td>\n",
       "      <td>0.88000</td>\n",
       "      <td>7</td>\n",
       "      <td>-4.690</td>\n",
       "      <td>0</td>\n",
       "      <td>0.0309</td>\n",
       "      <td>0.000096</td>\n",
       "      <td>0.00614</td>\n",
       "      <td>0.0824</td>\n",
       "      <td>0.4950</td>\n",
       "      <td>92.358</td>\n",
       "      <td>269533</td>\n",
       "      <td>4</td>\n",
       "    </tr>\n",
       "    <tr>\n",
       "      <th>...</th>\n",
       "      <td>...</td>\n",
       "      <td>...</td>\n",
       "      <td>...</td>\n",
       "      <td>...</td>\n",
       "      <td>...</td>\n",
       "      <td>...</td>\n",
       "      <td>...</td>\n",
       "      <td>...</td>\n",
       "      <td>...</td>\n",
       "      <td>...</td>\n",
       "      <td>...</td>\n",
       "      <td>...</td>\n",
       "      <td>...</td>\n",
       "      <td>...</td>\n",
       "    </tr>\n",
       "    <tr>\n",
       "      <th>59898</th>\n",
       "      <td>56</td>\n",
       "      <td>0.866</td>\n",
       "      <td>0.79400</td>\n",
       "      <td>1</td>\n",
       "      <td>-5.085</td>\n",
       "      <td>1</td>\n",
       "      <td>0.2070</td>\n",
       "      <td>0.075300</td>\n",
       "      <td>0.00000</td>\n",
       "      <td>0.0910</td>\n",
       "      <td>0.2250</td>\n",
       "      <td>140.043</td>\n",
       "      <td>116612</td>\n",
       "      <td>4</td>\n",
       "    </tr>\n",
       "    <tr>\n",
       "      <th>68464</th>\n",
       "      <td>41</td>\n",
       "      <td>0.407</td>\n",
       "      <td>0.14800</td>\n",
       "      <td>2</td>\n",
       "      <td>-18.179</td>\n",
       "      <td>0</td>\n",
       "      <td>0.0325</td>\n",
       "      <td>0.930000</td>\n",
       "      <td>0.93300</td>\n",
       "      <td>0.1070</td>\n",
       "      <td>0.0495</td>\n",
       "      <td>103.590</td>\n",
       "      <td>329471</td>\n",
       "      <td>4</td>\n",
       "    </tr>\n",
       "    <tr>\n",
       "      <th>55604</th>\n",
       "      <td>34</td>\n",
       "      <td>0.509</td>\n",
       "      <td>0.95200</td>\n",
       "      <td>0</td>\n",
       "      <td>-4.625</td>\n",
       "      <td>1</td>\n",
       "      <td>0.1120</td>\n",
       "      <td>0.000167</td>\n",
       "      <td>0.02890</td>\n",
       "      <td>0.1660</td>\n",
       "      <td>0.6600</td>\n",
       "      <td>180.124</td>\n",
       "      <td>127926</td>\n",
       "      <td>4</td>\n",
       "    </tr>\n",
       "    <tr>\n",
       "      <th>56846</th>\n",
       "      <td>60</td>\n",
       "      <td>0.569</td>\n",
       "      <td>0.90100</td>\n",
       "      <td>9</td>\n",
       "      <td>-5.197</td>\n",
       "      <td>1</td>\n",
       "      <td>0.0544</td>\n",
       "      <td>0.005550</td>\n",
       "      <td>0.26000</td>\n",
       "      <td>0.1600</td>\n",
       "      <td>0.8390</td>\n",
       "      <td>133.194</td>\n",
       "      <td>259413</td>\n",
       "      <td>4</td>\n",
       "    </tr>\n",
       "    <tr>\n",
       "      <th>3529</th>\n",
       "      <td>47</td>\n",
       "      <td>0.426</td>\n",
       "      <td>0.76800</td>\n",
       "      <td>0</td>\n",
       "      <td>-4.723</td>\n",
       "      <td>1</td>\n",
       "      <td>0.0315</td>\n",
       "      <td>0.048900</td>\n",
       "      <td>0.05540</td>\n",
       "      <td>0.2970</td>\n",
       "      <td>0.5350</td>\n",
       "      <td>148.108</td>\n",
       "      <td>242307</td>\n",
       "      <td>4</td>\n",
       "    </tr>\n",
       "  </tbody>\n",
       "</table>\n",
       "<p>42368 rows × 14 columns</p>\n",
       "</div>"
      ],
      "text/plain": [
       "       popularity  danceability   energy  key  loudness  mode  speechiness  \\\n",
       "42542          63         0.365  0.89200    4    -8.036     0       0.0786   \n",
       "18998          49         0.388  0.00843    9   -31.898     0       0.0540   \n",
       "15138          26         0.756  0.87000   11    -3.059     0       0.1200   \n",
       "23134           8         0.276  0.05580    0   -23.893     0       0.0328   \n",
       "15572          65         0.513  0.88000    7    -4.690     0       0.0309   \n",
       "...           ...           ...      ...  ...       ...   ...          ...   \n",
       "59898          56         0.866  0.79400    1    -5.085     1       0.2070   \n",
       "68464          41         0.407  0.14800    2   -18.179     0       0.0325   \n",
       "55604          34         0.509  0.95200    0    -4.625     1       0.1120   \n",
       "56846          60         0.569  0.90100    9    -5.197     1       0.0544   \n",
       "3529           47         0.426  0.76800    0    -4.723     1       0.0315   \n",
       "\n",
       "       acousticness  instrumentalness  liveness  valence    tempo  \\\n",
       "42542      0.000033           0.09480    0.7510   0.1760  136.133   \n",
       "18998      0.994000           0.91900    0.0861   0.1790  114.314   \n",
       "15138      0.353000           0.00000    0.4950   0.6540  130.005   \n",
       "23134      0.984000           0.96000    0.1000   0.0620  175.533   \n",
       "15572      0.000096           0.00614    0.0824   0.4950   92.358   \n",
       "...             ...               ...       ...      ...      ...   \n",
       "59898      0.075300           0.00000    0.0910   0.2250  140.043   \n",
       "68464      0.930000           0.93300    0.1070   0.0495  103.590   \n",
       "55604      0.000167           0.02890    0.1660   0.6600  180.124   \n",
       "56846      0.005550           0.26000    0.1600   0.8390  133.194   \n",
       "3529       0.048900           0.05540    0.2970   0.5350  148.108   \n",
       "\n",
       "       duration_ms  time_signature  \n",
       "42542       323373               4  \n",
       "18998       453267               4  \n",
       "15138       166407               4  \n",
       "23134       252733               3  \n",
       "15572       269533               4  \n",
       "...            ...             ...  \n",
       "59898       116612               4  \n",
       "68464       329471               4  \n",
       "55604       127926               4  \n",
       "56846       259413               4  \n",
       "3529        242307               4  \n",
       "\n",
       "[42368 rows x 14 columns]"
      ]
     },
     "execution_count": 30,
     "metadata": {},
     "output_type": "execute_result"
    }
   ],
   "source": [
    "df_03 = df_train.select_dtypes([\"int64\", \"float64\"]).copy()\n",
    "df_03"
   ]
  },
  {
   "cell_type": "code",
   "execution_count": 31,
   "metadata": {},
   "outputs": [
    {
     "data": {
      "image/png": "[encoded data removed]",
      "text/plain": [
       "<Figure size 864x576 with 2 Axes>"
      ]
     },
     "metadata": {
      "needs_background": "light"
     },
     "output_type": "display_data"
    }
   ],
   "source": [
    "plt.figure(figsize=(12, 8))\n",
    "\n",
    "sns.heatmap(df_03.corr(), cmap=\"coolwarm\", annot=True);\n",
    "\n",
    "plt.savefig('./image/heatmap.png')"
   ]
  },
  {
   "cell_type": "code",
   "execution_count": 32,
   "metadata": {},
   "outputs": [
    {
     "data": {
      "image/png": "[encoded data removed]",
      "text/plain": [
       "<Figure size 1152x720 with 14 Axes>"
      ]
     },
     "metadata": {
      "needs_background": "light"
     },
     "output_type": "display_data"
    }
   ],
   "source": [
    "plt.figure(figsize=(16, 10))\n",
    "\n",
    "for i, col in enumerate(df_03.columns):\n",
    "    ax = plt.subplot(3, 5, i + 1)\n",
    "    plt.scatter(df_03[col], df_03[\"popularity\"])\n",
    "    plt.xlabel(col)\n",
    "plt.savefig('./image/scatter.png')"
   ]
  },
  {
   "cell_type": "markdown",
   "metadata": {},
   "source": [
    "### Phân tích yếu tố số followers của artist"
   ]
  },
  {
   "cell_type": "markdown",
   "metadata": {},
   "source": [
    "Độ yêu thích của một bài hát có thể phụ thuộc nhiều vào độ nổi tiếng của nghệ sĩ trình diễn bài hát đó. Một bài hát có thể có nhiều nghệ sĩ tham gia trình diễn, do đó ta sẽ thử ba cách để đưa tính đặc trưng followers của 1 bài hát: lượng follower trung bình, lượng follower nhỏ nhất và lượng follower lớn nhất."
   ]
  },
  {
   "cell_type": "code",
   "execution_count": 33,
   "metadata": {},
   "outputs": [],
   "source": [
    "df_04 = df_train[[\"id\", \"artists\"]].copy()\n",
    "df_04[\"artists\"] = df_04[\"artists\"].apply(lambda x : x.split(\",\"))"
   ]
  },
  {
   "cell_type": "code",
   "execution_count": 34,
   "metadata": {},
   "outputs": [],
   "source": [
    "df_04 = df_04.explode(\"artists\")"
   ]
  },
  {
   "cell_type": "code",
   "execution_count": 35,
   "metadata": {},
   "outputs": [],
   "source": [
    "df_track_follower = df_04.merge(df_artist[[\"id\", \"followers\"]], left_on=\"artists\", right_on=\"id\", how=\"left\")"
   ]
  },
  {
   "cell_type": "code",
   "execution_count": 36,
   "metadata": {},
   "outputs": [
    {
     "data": {
      "text/html": [
       "<div>\n",
       "<style scoped>\n",
       "    .dataframe tbody tr th:only-of-type {\n",
       "        vertical-align: middle;\n",
       "    }\n",
       "\n",
       "    .dataframe tbody tr th {\n",
       "        vertical-align: top;\n",
       "    }\n",
       "\n",
       "    .dataframe thead th {\n",
       "        text-align: right;\n",
       "    }\n",
       "</style>\n",
       "<table border=\"1\" class=\"dataframe\">\n",
       "  <thead>\n",
       "    <tr style=\"text-align: right;\">\n",
       "      <th></th>\n",
       "      <th>id_x</th>\n",
       "      <th>artists</th>\n",
       "      <th>id_y</th>\n",
       "      <th>followers</th>\n",
       "    </tr>\n",
       "  </thead>\n",
       "  <tbody>\n",
       "    <tr>\n",
       "      <th>0</th>\n",
       "      <td>1wLQwg0mloy3yXjL0jPE0N</td>\n",
       "      <td>7jy3rLJdDQY21OgRLCZ9sD</td>\n",
       "      <td>7jy3rLJdDQY21OgRLCZ9sD</td>\n",
       "      <td>8212204.0</td>\n",
       "    </tr>\n",
       "    <tr>\n",
       "      <th>1</th>\n",
       "      <td>3DRu1GI6qvtVUDnygcTTj6</td>\n",
       "      <td>2wOqMjp9TyABvtHdOSOTUS</td>\n",
       "      <td>2wOqMjp9TyABvtHdOSOTUS</td>\n",
       "      <td>3570225.0</td>\n",
       "    </tr>\n",
       "    <tr>\n",
       "      <th>2</th>\n",
       "      <td>3DRu1GI6qvtVUDnygcTTj6</td>\n",
       "      <td>5Kb0Qf13EyYtVJvzCdI9M7</td>\n",
       "      <td>NaN</td>\n",
       "      <td>NaN</td>\n",
       "    </tr>\n",
       "    <tr>\n",
       "      <th>3</th>\n",
       "      <td>31zwmEokj7CXoY6elLIbMZ</td>\n",
       "      <td>0jnsk9HBra6NMjO2oANoPY</td>\n",
       "      <td>0jnsk9HBra6NMjO2oANoPY</td>\n",
       "      <td>7837167.0</td>\n",
       "    </tr>\n",
       "    <tr>\n",
       "      <th>4</th>\n",
       "      <td>31zwmEokj7CXoY6elLIbMZ</td>\n",
       "      <td>1RyvyyTE3xzB2ZywiAwp0i</td>\n",
       "      <td>1RyvyyTE3xzB2ZywiAwp0i</td>\n",
       "      <td>9612552.0</td>\n",
       "    </tr>\n",
       "  </tbody>\n",
       "</table>\n",
       "</div>"
      ],
      "text/plain": [
       "                     id_x                 artists                    id_y  \\\n",
       "0  1wLQwg0mloy3yXjL0jPE0N  7jy3rLJdDQY21OgRLCZ9sD  7jy3rLJdDQY21OgRLCZ9sD   \n",
       "1  3DRu1GI6qvtVUDnygcTTj6  2wOqMjp9TyABvtHdOSOTUS  2wOqMjp9TyABvtHdOSOTUS   \n",
       "2  3DRu1GI6qvtVUDnygcTTj6  5Kb0Qf13EyYtVJvzCdI9M7                     NaN   \n",
       "3  31zwmEokj7CXoY6elLIbMZ  0jnsk9HBra6NMjO2oANoPY  0jnsk9HBra6NMjO2oANoPY   \n",
       "4  31zwmEokj7CXoY6elLIbMZ  1RyvyyTE3xzB2ZywiAwp0i  1RyvyyTE3xzB2ZywiAwp0i   \n",
       "\n",
       "   followers  \n",
       "0  8212204.0  \n",
       "1  3570225.0  \n",
       "2        NaN  \n",
       "3  7837167.0  \n",
       "4  9612552.0  "
      ]
     },
     "execution_count": 36,
     "metadata": {},
     "output_type": "execute_result"
    }
   ],
   "source": [
    "df_track_follower.head()"
   ]
  },
  {
   "cell_type": "code",
   "execution_count": 37,
   "metadata": {},
   "outputs": [],
   "source": [
    "df_track_follower = df_track_follower.drop(columns=\"id_y\")\n",
    "df_track_follower.columns = [\"id_track\", \"id_artists\", \"followers\"]"
   ]
  },
  {
   "cell_type": "code",
   "execution_count": 38,
   "metadata": {},
   "outputs": [
    {
     "data": {
      "text/html": [
       "<div>\n",
       "<style scoped>\n",
       "    .dataframe tbody tr th:only-of-type {\n",
       "        vertical-align: middle;\n",
       "    }\n",
       "\n",
       "    .dataframe tbody tr th {\n",
       "        vertical-align: top;\n",
       "    }\n",
       "\n",
       "    .dataframe thead th {\n",
       "        text-align: right;\n",
       "    }\n",
       "</style>\n",
       "<table border=\"1\" class=\"dataframe\">\n",
       "  <thead>\n",
       "    <tr style=\"text-align: right;\">\n",
       "      <th></th>\n",
       "      <th>id_track</th>\n",
       "      <th>id_artists</th>\n",
       "      <th>followers</th>\n",
       "    </tr>\n",
       "  </thead>\n",
       "  <tbody>\n",
       "    <tr>\n",
       "      <th>0</th>\n",
       "      <td>1wLQwg0mloy3yXjL0jPE0N</td>\n",
       "      <td>7jy3rLJdDQY21OgRLCZ9sD</td>\n",
       "      <td>8212204.0</td>\n",
       "    </tr>\n",
       "    <tr>\n",
       "      <th>1</th>\n",
       "      <td>3DRu1GI6qvtVUDnygcTTj6</td>\n",
       "      <td>2wOqMjp9TyABvtHdOSOTUS</td>\n",
       "      <td>3570225.0</td>\n",
       "    </tr>\n",
       "    <tr>\n",
       "      <th>2</th>\n",
       "      <td>3DRu1GI6qvtVUDnygcTTj6</td>\n",
       "      <td>5Kb0Qf13EyYtVJvzCdI9M7</td>\n",
       "      <td>NaN</td>\n",
       "    </tr>\n",
       "    <tr>\n",
       "      <th>3</th>\n",
       "      <td>31zwmEokj7CXoY6elLIbMZ</td>\n",
       "      <td>0jnsk9HBra6NMjO2oANoPY</td>\n",
       "      <td>7837167.0</td>\n",
       "    </tr>\n",
       "    <tr>\n",
       "      <th>4</th>\n",
       "      <td>31zwmEokj7CXoY6elLIbMZ</td>\n",
       "      <td>1RyvyyTE3xzB2ZywiAwp0i</td>\n",
       "      <td>9612552.0</td>\n",
       "    </tr>\n",
       "    <tr>\n",
       "      <th>...</th>\n",
       "      <td>...</td>\n",
       "      <td>...</td>\n",
       "      <td>...</td>\n",
       "    </tr>\n",
       "    <tr>\n",
       "      <th>59405</th>\n",
       "      <td>7nIpGpMm3gSnL3QTrMisH7</td>\n",
       "      <td>181bsRPaVXVlUKXrxwZfHK</td>\n",
       "      <td>2750315.0</td>\n",
       "    </tr>\n",
       "    <tr>\n",
       "      <th>59406</th>\n",
       "      <td>46LJTikBnAJAzOJ3Hd3cxx</td>\n",
       "      <td>4zeFXE0vLwXYmvHTmHkpYL</td>\n",
       "      <td>40.0</td>\n",
       "    </tr>\n",
       "    <tr>\n",
       "      <th>59407</th>\n",
       "      <td>6JNIbZaVV9wkiv0ZNBfRrk</td>\n",
       "      <td>7tjMOkm52H3Qiz3ty2tbNw</td>\n",
       "      <td>32330.0</td>\n",
       "    </tr>\n",
       "    <tr>\n",
       "      <th>59408</th>\n",
       "      <td>7zjzu90Q4mtNNaE9Ol9Zbv</td>\n",
       "      <td>711MCceyCBcFnzjGY4Q7Un</td>\n",
       "      <td>17129975.0</td>\n",
       "    </tr>\n",
       "    <tr>\n",
       "      <th>59409</th>\n",
       "      <td>1Q7Z7PQlHkuKF1F9fK5VOd</td>\n",
       "      <td>6IOvhXyk5edbA2DVaeP9Up</td>\n",
       "      <td>216798.0</td>\n",
       "    </tr>\n",
       "  </tbody>\n",
       "</table>\n",
       "<p>59410 rows × 3 columns</p>\n",
       "</div>"
      ],
      "text/plain": [
       "                     id_track              id_artists   followers\n",
       "0      1wLQwg0mloy3yXjL0jPE0N  7jy3rLJdDQY21OgRLCZ9sD   8212204.0\n",
       "1      3DRu1GI6qvtVUDnygcTTj6  2wOqMjp9TyABvtHdOSOTUS   3570225.0\n",
       "2      3DRu1GI6qvtVUDnygcTTj6  5Kb0Qf13EyYtVJvzCdI9M7         NaN\n",
       "3      31zwmEokj7CXoY6elLIbMZ  0jnsk9HBra6NMjO2oANoPY   7837167.0\n",
       "4      31zwmEokj7CXoY6elLIbMZ  1RyvyyTE3xzB2ZywiAwp0i   9612552.0\n",
       "...                       ...                     ...         ...\n",
       "59405  7nIpGpMm3gSnL3QTrMisH7  181bsRPaVXVlUKXrxwZfHK   2750315.0\n",
       "59406  46LJTikBnAJAzOJ3Hd3cxx  4zeFXE0vLwXYmvHTmHkpYL        40.0\n",
       "59407  6JNIbZaVV9wkiv0ZNBfRrk  7tjMOkm52H3Qiz3ty2tbNw     32330.0\n",
       "59408  7zjzu90Q4mtNNaE9Ol9Zbv  711MCceyCBcFnzjGY4Q7Un  17129975.0\n",
       "59409  1Q7Z7PQlHkuKF1F9fK5VOd  6IOvhXyk5edbA2DVaeP9Up    216798.0\n",
       "\n",
       "[59410 rows x 3 columns]"
      ]
     },
     "execution_count": 38,
     "metadata": {},
     "output_type": "execute_result"
    }
   ],
   "source": [
    "df_track_follower"
   ]
  },
  {
   "cell_type": "code",
   "execution_count": 39,
   "metadata": {},
   "outputs": [],
   "source": [
    "track_follower_mean = df_track_follower.groupby(\"id_track\")[\"followers\"].mean()\n",
    "track_follower_max  = df_track_follower.groupby(\"id_track\")[\"followers\"].max()\n",
    "track_follower_min  = df_track_follower.groupby(\"id_track\")[\"followers\"].min()\n",
    "\n",
    "#Thay các giá trị thiếu bằng trung vị của cột\n",
    "track_follower_mean = track_follower_mean.fillna(track_follower_mean.median())\n",
    "track_follower_max  = track_follower_max.fillna(track_follower_max.median())\n",
    "track_follower_min  = track_follower_min.fillna(track_follower_min.median())"
   ]
  },
  {
   "cell_type": "code",
   "execution_count": 40,
   "metadata": {},
   "outputs": [],
   "source": [
    "track_follower  = pd.concat({\"mean\" : track_follower_mean, \"max\" : track_follower_max, \"min\" : track_follower_min}, axis=1)"
   ]
  },
  {
   "cell_type": "code",
   "execution_count": 41,
   "metadata": {},
   "outputs": [
    {
     "data": {
      "text/html": [
       "<div>\n",
       "<style scoped>\n",
       "    .dataframe tbody tr th:only-of-type {\n",
       "        vertical-align: middle;\n",
       "    }\n",
       "\n",
       "    .dataframe tbody tr th {\n",
       "        vertical-align: top;\n",
       "    }\n",
       "\n",
       "    .dataframe thead th {\n",
       "        text-align: right;\n",
       "    }\n",
       "</style>\n",
       "<table border=\"1\" class=\"dataframe\">\n",
       "  <thead>\n",
       "    <tr style=\"text-align: right;\">\n",
       "      <th></th>\n",
       "      <th>mean</th>\n",
       "      <th>max</th>\n",
       "      <th>min</th>\n",
       "    </tr>\n",
       "    <tr>\n",
       "      <th>id_track</th>\n",
       "      <th></th>\n",
       "      <th></th>\n",
       "      <th></th>\n",
       "    </tr>\n",
       "  </thead>\n",
       "  <tbody>\n",
       "    <tr>\n",
       "      <th>00045lJN8ym35dThqegEHq</th>\n",
       "      <td>538.0</td>\n",
       "      <td>538.0</td>\n",
       "      <td>538.0</td>\n",
       "    </tr>\n",
       "    <tr>\n",
       "      <th>001UkMQHw4zXfFNdKpwXAF</th>\n",
       "      <td>2821149.0</td>\n",
       "      <td>3967710.0</td>\n",
       "      <td>1674588.0</td>\n",
       "    </tr>\n",
       "    <tr>\n",
       "      <th>001eyxfoYptAWzvF4ewLrR</th>\n",
       "      <td>437218.0</td>\n",
       "      <td>437218.0</td>\n",
       "      <td>437218.0</td>\n",
       "    </tr>\n",
       "    <tr>\n",
       "      <th>002iHpz1z9UbrIzJ8xcx3M</th>\n",
       "      <td>2.0</td>\n",
       "      <td>2.0</td>\n",
       "      <td>2.0</td>\n",
       "    </tr>\n",
       "    <tr>\n",
       "      <th>0038p5duwZ3euoTDxmizmF</th>\n",
       "      <td>5082.0</td>\n",
       "      <td>5082.0</td>\n",
       "      <td>5082.0</td>\n",
       "    </tr>\n",
       "    <tr>\n",
       "      <th>...</th>\n",
       "      <td>...</td>\n",
       "      <td>...</td>\n",
       "      <td>...</td>\n",
       "    </tr>\n",
       "    <tr>\n",
       "      <th>7zvwxa2s4zIX7y49plhrmo</th>\n",
       "      <td>334385.0</td>\n",
       "      <td>334385.0</td>\n",
       "      <td>334385.0</td>\n",
       "    </tr>\n",
       "    <tr>\n",
       "      <th>7zxRMhXxJMQCeDDg0rKAVo</th>\n",
       "      <td>14489818.0</td>\n",
       "      <td>26692409.0</td>\n",
       "      <td>2287227.0</td>\n",
       "    </tr>\n",
       "    <tr>\n",
       "      <th>7zxYEpPy4av7DA0jEgmHde</th>\n",
       "      <td>1102.0</td>\n",
       "      <td>1723.0</td>\n",
       "      <td>481.0</td>\n",
       "    </tr>\n",
       "    <tr>\n",
       "      <th>7zyPeamszz50gSPkB75dQl</th>\n",
       "      <td>429135.0</td>\n",
       "      <td>429135.0</td>\n",
       "      <td>429135.0</td>\n",
       "    </tr>\n",
       "    <tr>\n",
       "      <th>7zziAaDRIHcKWSBC4DTAZZ</th>\n",
       "      <td>491175.0</td>\n",
       "      <td>491175.0</td>\n",
       "      <td>491175.0</td>\n",
       "    </tr>\n",
       "  </tbody>\n",
       "</table>\n",
       "<p>42368 rows × 3 columns</p>\n",
       "</div>"
      ],
      "text/plain": [
       "                              mean         max        min\n",
       "id_track                                                 \n",
       "00045lJN8ym35dThqegEHq       538.0       538.0      538.0\n",
       "001UkMQHw4zXfFNdKpwXAF   2821149.0   3967710.0  1674588.0\n",
       "001eyxfoYptAWzvF4ewLrR    437218.0    437218.0   437218.0\n",
       "002iHpz1z9UbrIzJ8xcx3M         2.0         2.0        2.0\n",
       "0038p5duwZ3euoTDxmizmF      5082.0      5082.0     5082.0\n",
       "...                            ...         ...        ...\n",
       "7zvwxa2s4zIX7y49plhrmo    334385.0    334385.0   334385.0\n",
       "7zxRMhXxJMQCeDDg0rKAVo  14489818.0  26692409.0  2287227.0\n",
       "7zxYEpPy4av7DA0jEgmHde      1102.0      1723.0      481.0\n",
       "7zyPeamszz50gSPkB75dQl    429135.0    429135.0   429135.0\n",
       "7zziAaDRIHcKWSBC4DTAZZ    491175.0    491175.0   491175.0\n",
       "\n",
       "[42368 rows x 3 columns]"
      ]
     },
     "execution_count": 41,
     "metadata": {},
     "output_type": "execute_result"
    }
   ],
   "source": [
    "track_follower"
   ]
  },
  {
   "cell_type": "code",
   "execution_count": 42,
   "metadata": {},
   "outputs": [],
   "source": [
    "pop = df_train[[\"id\",\"popularity\"]].copy()"
   ]
  },
  {
   "cell_type": "code",
   "execution_count": 43,
   "metadata": {},
   "outputs": [],
   "source": [
    "df_tmp = pop.merge(track_follower, left_on=\"id\", right_index=True)"
   ]
  },
  {
   "cell_type": "code",
   "execution_count": 44,
   "metadata": {},
   "outputs": [
    {
     "data": {
      "image/png": "[encoded data removed]",
      "text/plain": [
       "<Figure size 720x720 with 4 Axes>"
      ]
     },
     "metadata": {
      "needs_background": "light"
     },
     "output_type": "display_data"
    }
   ],
   "source": [
    "plt.figure(figsize=(10, 10))\n",
    "\n",
    "for i, col in enumerate([\"popularity\", \"mean\", \"max\", \"min\"]):\n",
    "    ax = plt.subplot(2, 2, i + 1)\n",
    "    plt.scatter(df_tmp[col], df_tmp[\"popularity\"])\n",
    "    plt.xlabel(col)\n",
    "plt.savefig('./image/artist-scatter.png')"
   ]
  },
  {
   "cell_type": "markdown",
   "metadata": {},
   "source": [
    "Các đường thẳng có thể giải thích là các bài hát khác nhau của cùng một nghệ sĩ"
   ]
  },
  {
   "cell_type": "code",
   "execution_count": 45,
   "metadata": {},
   "outputs": [
    {
     "data": {
      "text/plain": [
       "popularity    1.000000\n",
       "max           0.312945\n",
       "mean          0.311622\n",
       "min           0.282141\n",
       "Name: popularity, dtype: float64"
      ]
     },
     "execution_count": 45,
     "metadata": {},
     "output_type": "execute_result"
    }
   ],
   "source": [
    "df_tmp.corr()[\"popularity\"].sort_values(ascending=False)"
   ]
  },
  {
   "cell_type": "markdown",
   "metadata": {},
   "source": [
    "Như vậy giá trị tương quan nhất với độ nổi tiếng là số follower lớn nhất trong các nghệ sĩ biểu diễn"
   ]
  },
  {
   "cell_type": "code",
   "execution_count": null,
   "metadata": {},
   "outputs": [],
   "source": []
  }
 ],
 "metadata": {
  "kernelspec": {
   "display_name": "Python 3",
   "language": "python",
   "name": "python3"
  },
  "language_info": {
   "codemirror_mode": {
    "name": "ipython",
    "version": 3
   },
   "file_extension": ".py",
   "mimetype": "text/x-python",
   "name": "python",
   "nbconvert_exporter": "python",
   "pygments_lexer": "ipython3",
   "version": "3.8.3"
  }
 },
 "nbformat": 4,
 "nbformat_minor": 4
}
