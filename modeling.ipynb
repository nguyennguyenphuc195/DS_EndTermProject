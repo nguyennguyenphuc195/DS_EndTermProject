{
 "cells": [
  {
   "cell_type": "code",
   "execution_count": 35,
   "metadata": {},
   "outputs": [],
   "source": [
    "import numpy as np\n",
    "import matplotlib.pyplot as plt\n",
    "import pandas as pd\n",
    "import seaborn as sns\n",
    "from typing import Dict, List, Tuple"
   ]
  },
  {
   "cell_type": "code",
   "execution_count": 36,
   "metadata": {},
   "outputs": [],
   "source": [
    "TRACK_DIR = \"./data/tracks.csv\"\n",
    "ARTIST_DIR= \"./data/artists.csv\"\n",
    "AUDIO_DIR = \"./data/features.csv\""
   ]
  },
  {
   "cell_type": "markdown",
   "metadata": {},
   "source": [
    "Đọc dữ liệu từ các file csv đã crawl"
   ]
  },
  {
   "cell_type": "code",
   "execution_count": 37,
   "metadata": {},
   "outputs": [],
   "source": [
    "df_track_id   = pd.read_csv(TRACK_DIR, index_col=0)\n",
    "df_feature_id = pd.read_csv(AUDIO_DIR, index_col=0)\n",
    "\n",
    "df_track   = df_track_id.merge(df_feature_id, left_on=\"id\", right_on=\"id\")\n",
    "df_artist  = pd.read_csv(ARTIST_DIR, index_col=0)"
   ]
  },
  {
   "cell_type": "code",
   "execution_count": 38,
   "metadata": {},
   "outputs": [],
   "source": [
    "df_track = df_track.dropna(subset=[\"available_markets\"])"
   ]
  },
  {
   "cell_type": "markdown",
   "metadata": {},
   "source": [
    "Chia dữ liệu thành tập train và test"
   ]
  },
  {
   "cell_type": "code",
   "execution_count": 39,
   "metadata": {},
   "outputs": [],
   "source": [
    "from sklearn.model_selection import train_test_split\n",
    "\n",
    "df_train, df_test = train_test_split(df_track, random_state=0, test_size=0.2)\n",
    "df_test , df_dev = train_test_split(df_test, random_state=0 , test_size=0.5)"
   ]
  },
  {
   "cell_type": "code",
   "execution_count": 40,
   "metadata": {},
   "outputs": [
    {
     "name": "stdout",
     "output_type": "stream",
     "text": [
      "Train: (42368, 23)\n",
      "Dev:   (5296, 23)\n",
      "Test:  (5296, 23)\n"
     ]
    }
   ],
   "source": [
    "df_train.shape, df_dev.shape, df_test.shape\n",
    "\n",
    "print(\"Train:\", df_train.shape)\n",
    "print(\"Dev:  \", df_dev.shape)\n",
    "print(\"Test: \", df_test.shape)"
   ]
  },
  {
   "cell_type": "markdown",
   "metadata": {},
   "source": [
    "### Linear Regression"
   ]
  },
  {
   "cell_type": "code",
   "execution_count": 71,
   "metadata": {},
   "outputs": [],
   "source": [
    "from sklearn.linear_model import LinearRegression\n",
    "from sklearn.preprocessing import StandardScaler\n",
    "from sklearn.pipeline import Pipeline\n",
    "from sklearn.metrics import mean_squared_error, mean_absolute_error"
   ]
  },
  {
   "cell_type": "code",
   "execution_count": 144,
   "metadata": {},
   "outputs": [],
   "source": [
    "def preprocess_baseline(df, add_area=True, areas = [\"ME\", \"RS\", \"XK\"], select_numeric = True):    \n",
    "    a = df\n",
    "    \n",
    "    if add_area:\n",
    "        df_area = df[[\"id\", \"available_markets\"]].copy()\n",
    "        for area in areas:\n",
    "            df_area[f\"in_{area}\"] = df_area[\"available_markets\"].apply(lambda x : area in x)\n",
    "\n",
    "        a = df.merge(df_area, left_on=\"id\", right_on=\"id\")\n",
    "    \n",
    "    if select_numeric:\n",
    "        return a.select_dtypes([\"int64\", \"float64\", \"bool\"])\n",
    "    else:\n",
    "        return a"
   ]
  },
  {
   "cell_type": "markdown",
   "metadata": {},
   "source": [
    "### Không thêm dữ liệu available markets"
   ]
  },
  {
   "cell_type": "code",
   "execution_count": 145,
   "metadata": {},
   "outputs": [],
   "source": [
    "df_train_preproc = preprocess_baseline(df_train, False)\n",
    "df_dev_preproc = preprocess_baseline(df_dev,   False)\n",
    "x_train, y_train = df_train_preproc.drop(columns=\"popularity\"), df_train_preproc[\"popularity\"]\n",
    "x_dev,   y_dev   = df_dev_preproc.drop(columns=\"popularity\")  , df_dev_preproc[\"popularity\"]"
   ]
  },
  {
   "cell_type": "code",
   "execution_count": 146,
   "metadata": {},
   "outputs": [
    {
     "name": "stdout",
     "output_type": "stream",
     "text": [
      "Train: MSE  275.6330598388134 MAE 13.366453563236952\n",
      "Dev: MSE  277.89169591526473 MAE 13.415547748546809\n"
     ]
    }
   ],
   "source": [
    "model_baseline = Pipeline([('scaler', StandardScaler()), ('lr', LinearRegression())])\n",
    "\n",
    "model_baseline.fit(x_train.values, y_train.values)\n",
    "\n",
    "y_train_pred = model_baseline.predict(x_train.values)\n",
    "y_dev_pred   = model_baseline.predict(x_dev.values)\n",
    "\n",
    "print(\"Train: MSE \", mean_squared_error(y_train.values, y_train_pred) , \"MAE\", mean_absolute_error(y_train.values, y_train_pred))\n",
    "print(\"Dev: MSE \", mean_squared_error(y_dev.values, y_dev_pred) , \"MAE\", mean_absolute_error(y_dev.values, y_dev_pred))"
   ]
  },
  {
   "cell_type": "markdown",
   "metadata": {},
   "source": [
    "### Thêm dữ liệu available markets"
   ]
  },
  {
   "cell_type": "markdown",
   "metadata": {},
   "source": [
    "##### Thêm 3 available markets ảnh hưởng nhất"
   ]
  },
  {
   "cell_type": "code",
   "execution_count": 147,
   "metadata": {},
   "outputs": [],
   "source": [
    "df_train_preproc = preprocess_baseline(df_train, True)\n",
    "df_dev_preproc = preprocess_baseline(df_dev,   True)\n",
    "x_train, y_train = df_train_preproc.drop(columns=\"popularity\"), df_train_preproc[\"popularity\"]\n",
    "x_dev,   y_dev   = df_dev_preproc.drop(columns=\"popularity\")  , df_dev_preproc[\"popularity\"]"
   ]
  },
  {
   "cell_type": "code",
   "execution_count": 148,
   "metadata": {},
   "outputs": [
    {
     "name": "stdout",
     "output_type": "stream",
     "text": [
      "Train: MSE  266.7581767778346 MAE 13.143501013661496\n",
      "Dev: MSE  270.18054338871343 MAE 13.210574115800439\n"
     ]
    }
   ],
   "source": [
    "model_baseline = Pipeline([('scaler', StandardScaler()), ('lr', LinearRegression())])\n",
    "\n",
    "model_baseline.fit(x_train.values, y_train.values)\n",
    "\n",
    "y_train_pred = model_baseline.predict(x_train.values)\n",
    "y_dev_pred   = model_baseline.predict(x_dev.values)\n",
    "\n",
    "print(\"Train: MSE \", mean_squared_error(y_train.values, y_train_pred) , \"MAE\", mean_absolute_error(y_train.values, y_train_pred))\n",
    "print(\"Dev: MSE \", mean_squared_error(y_dev.values, y_dev_pred) , \"MAE\", mean_absolute_error(y_dev.values, y_dev_pred))"
   ]
  },
  {
   "cell_type": "markdown",
   "metadata": {},
   "source": [
    "##### Thêm 5 available markets"
   ]
  },
  {
   "cell_type": "code",
   "execution_count": 149,
   "metadata": {},
   "outputs": [],
   "source": [
    "df_train_preproc = preprocess_baseline(df_train, True, [\"ME\", \"RS\", \"XK\", \"US\", \"JP\"])\n",
    "df_dev_preproc   = preprocess_baseline(df_dev,   True, [\"ME\", \"RS\", \"XK\", \"US\", \"JP\"])\n",
    "\n",
    "x_train, y_train = df_train_preproc.drop(columns=\"popularity\"), df_train_preproc[\"popularity\"]\n",
    "x_dev,   y_dev   = df_dev_preproc.drop(columns=\"popularity\")  , df_dev_preproc[\"popularity\"]"
   ]
  },
  {
   "cell_type": "code",
   "execution_count": 150,
   "metadata": {},
   "outputs": [
    {
     "name": "stdout",
     "output_type": "stream",
     "text": [
      "Train: MSE  264.32058364644774 MAE 13.090310808814577\n",
      "Dev: MSE  268.4174594754088 MAE 13.20629684826219\n"
     ]
    }
   ],
   "source": [
    "model_baseline = Pipeline([('scaler', StandardScaler()), ('lr', LinearRegression())])\n",
    "\n",
    "model_baseline.fit(x_train.values, y_train.values)\n",
    "\n",
    "y_train_pred = model_baseline.predict(x_train.values)\n",
    "y_dev_pred   = model_baseline.predict(x_dev.values)\n",
    "\n",
    "print(\"Train: MSE \", mean_squared_error(y_train.values, y_train_pred) , \"MAE\", mean_absolute_error(y_train.values, y_train_pred))\n",
    "print(\"Dev: MSE \", mean_squared_error(y_dev.values, y_dev_pred) , \"MAE\", mean_absolute_error(y_dev.values, y_dev_pred))"
   ]
  },
  {
   "cell_type": "markdown",
   "metadata": {},
   "source": [
    "### Thêm giá trị followers\n",
    "Thêm giá trị followers lớn nhất của các artist trong bài hát"
   ]
  },
  {
   "cell_type": "code",
   "execution_count": 163,
   "metadata": {},
   "outputs": [],
   "source": [
    "def add_max_followers(df, fill_na_value=0):\n",
    "    b = df[[\"id\", \"artists\"]].copy()\n",
    "    b[\"artists\"] = b[\"artists\"].apply(lambda x : x.split(\",\"))\n",
    "    \n",
    "    #Tạo ra các dòng gồm 1 artist id\n",
    "    b = b.explode(\"artists\")\n",
    "    \n",
    "    #join hai bảng dựa vào artists id\n",
    "    df_track_follower = b.merge(df_artist[[\"id\", \"followers\"]], left_on=\"artists\", right_on=\"id\", how=\"left\")\n",
    "    #Bỏ cột thừa sau khi merge\n",
    "    df_track_follower = df_track_follower.drop(columns=\"id_y\")\n",
    "    df_track_follower.columns = [\"id_track\", \"id_artists\", \"followers\"]\n",
    "    \n",
    "    #group theo id track là lấy max của followers các dòng cùng id track\n",
    "    track_follower_max  = df_track_follower.groupby(\"id_track\")[\"followers\"].max()\n",
    "    #Các artist không có followers thay bằng giá trị\n",
    "    track_follower_max  = track_follower_max.fillna(fill_na_value)\n",
    "    \n",
    "    df_tmp = df.merge(track_follower_max, left_on=\"id\", right_index=True)\n",
    "    return df_tmp"
   ]
  },
  {
   "cell_type": "code",
   "execution_count": 167,
   "metadata": {},
   "outputs": [],
   "source": [
    "follower_median = df_artist.followers.median()\n",
    "\n",
    "df_train_preproc = preprocess_baseline(df_train, True, [\"ME\", \"RS\", \"XK\", \"US\", \"JP\"], False)\n",
    "df_dev_preproc   = preprocess_baseline(df_dev,   True, [\"ME\", \"RS\", \"XK\", \"US\", \"JP\"], False)\n",
    "\n",
    "df_train_preproc = add_max_followers(df_train_preproc, follower_median).select_dtypes([\"int64\", \"float64\", \"bool\"])\n",
    "df_dev_preproc   = add_max_followers(df_dev_preproc, follower_median).select_dtypes([\"int64\", \"float64\", \"bool\"])\n",
    "\n",
    "x_train, y_train = df_train_preproc.drop(columns=\"popularity\"), df_train_preproc[\"popularity\"]\n",
    "x_dev,   y_dev   = df_dev_preproc.drop(columns=\"popularity\")  , df_dev_preproc[\"popularity\"]"
   ]
  },
  {
   "cell_type": "code",
   "execution_count": 168,
   "metadata": {},
   "outputs": [
    {
     "name": "stdout",
     "output_type": "stream",
     "text": [
      "Train: MSE  241.41868288815206 MAE 12.438236679375619\n",
      "Dev: MSE  247.9952107395564 MAE 12.60718226266387\n"
     ]
    }
   ],
   "source": [
    "model_baseline = Pipeline([('scaler', StandardScaler()), ('lr', LinearRegression())])\n",
    "model_baseline.fit(x_train.values, y_train.values)\n",
    "\n",
    "y_train_pred = model_baseline.predict(x_train.values)\n",
    "y_dev_pred   = model_baseline.predict(x_dev.values)\n",
    "\n",
    "print(\"Train: MSE \", mean_squared_error(y_train.values, y_train_pred) , \"MAE\", mean_absolute_error(y_train.values, y_train_pred))\n",
    "print(\"Dev: MSE \", mean_squared_error(y_dev.values, y_dev_pred) , \"MAE\", mean_absolute_error(y_dev.values, y_dev_pred))"
   ]
  },
  {
   "cell_type": "markdown",
   "metadata": {},
   "source": [
    "### Neural network"
   ]
  },
  {
   "cell_type": "code",
   "execution_count": 170,
   "metadata": {},
   "outputs": [],
   "source": [
    "from sklearn.neural_network import MLPRegressor"
   ]
  },
  {
   "cell_type": "code",
   "execution_count": 171,
   "metadata": {},
   "outputs": [],
   "source": [
    "follower_median = df_artist.followers.median()\n",
    "\n",
    "df_train_preproc = preprocess_baseline(df_train, True, [\"ME\", \"RS\", \"XK\", \"US\", \"JP\"], False)\n",
    "df_dev_preproc   = preprocess_baseline(df_dev,   True, [\"ME\", \"RS\", \"XK\", \"US\", \"JP\"], False)\n",
    "\n",
    "df_train_preproc = add_max_followers(df_train_preproc, follower_median).select_dtypes([\"int64\", \"float64\", \"bool\"])\n",
    "df_dev_preproc   = add_max_followers(df_dev_preproc, follower_median).select_dtypes([\"int64\", \"float64\", \"bool\"])\n",
    "\n",
    "x_train, y_train = df_train_preproc.drop(columns=\"popularity\"), df_train_preproc[\"popularity\"]\n",
    "x_dev,   y_dev   = df_dev_preproc.drop(columns=\"popularity\")  , df_dev_preproc[\"popularity\"]"
   ]
  },
  {
   "cell_type": "code",
   "execution_count": 174,
   "metadata": {},
   "outputs": [
    {
     "name": "stdout",
     "output_type": "stream",
     "text": [
      "Train: MSE  155.48206238678844 MAE 9.679703769966572\n",
      "Dev: MSE  169.15873599587567 MAE 10.14760944919278\n"
     ]
    }
   ],
   "source": [
    "model_nn = Pipeline([('scaler', StandardScaler()), ('nn', MLPRegressor(learning_rate_init=0.01))])\n",
    "model_nn.fit(x_train.values, y_train.values)\n",
    "\n",
    "y_train_pred = model_nn.predict(x_train.values)\n",
    "y_dev_pred   = model_nn.predict(x_dev.values)\n",
    "\n",
    "print(\"Train: MSE \", mean_squared_error(y_train.values, y_train_pred) , \"MAE\", mean_absolute_error(y_train.values, y_train_pred))\n",
    "print(\"Dev: MSE \", mean_squared_error(y_dev.values, y_dev_pred) , \"MAE\", mean_absolute_error(y_dev.values, y_dev_pred))"
   ]
  },
  {
   "cell_type": "markdown",
   "metadata": {},
   "source": [
    "### Random Forest"
   ]
  },
  {
   "cell_type": "code",
   "execution_count": 176,
   "metadata": {},
   "outputs": [],
   "source": [
    "from sklearn.ensemble import RandomForestRegressor"
   ]
  },
  {
   "cell_type": "code",
   "execution_count": 177,
   "metadata": {},
   "outputs": [],
   "source": [
    "follower_median = df_artist.followers.median()\n",
    "\n",
    "df_train_preproc = preprocess_baseline(df_train, True, [\"ME\", \"RS\", \"XK\", \"US\", \"JP\"], False)\n",
    "df_dev_preproc   = preprocess_baseline(df_dev,   True, [\"ME\", \"RS\", \"XK\", \"US\", \"JP\"], False)\n",
    "\n",
    "df_train_preproc = add_max_followers(df_train_preproc, follower_median).select_dtypes([\"int64\", \"float64\", \"bool\"])\n",
    "df_dev_preproc   = add_max_followers(df_dev_preproc, follower_median).select_dtypes([\"int64\", \"float64\", \"bool\"])\n",
    "\n",
    "x_train, y_train = df_train_preproc.drop(columns=\"popularity\"), df_train_preproc[\"popularity\"]\n",
    "x_dev,   y_dev   = df_dev_preproc.drop(columns=\"popularity\")  , df_dev_preproc[\"popularity\"]"
   ]
  },
  {
   "cell_type": "code",
   "execution_count": 184,
   "metadata": {},
   "outputs": [
    {
     "name": "stdout",
     "output_type": "stream",
     "text": [
      "Train: MSE  21.49454585411147 MAE 3.5134049644011056\n",
      "Dev: MSE  147.84066347009747 MAE 9.371500577704648\n"
     ]
    }
   ],
   "source": [
    "model_rf = Pipeline([('scaler', StandardScaler()), ('nn', RandomForestRegressor())])\n",
    "model_rf.fit(x_train.values, y_train.values)\n",
    "\n",
    "y_train_pred = model_rf.predict(x_train.values)\n",
    "y_dev_pred   = model_rf.predict(x_dev.values)\n",
    "\n",
    "print(\"Train: MSE \", mean_squared_error(y_train.values, y_train_pred) , \"MAE\", mean_absolute_error(y_train.values, y_train_pred))\n",
    "print(\"Dev: MSE \", mean_squared_error(y_dev.values, y_dev_pred) , \"MAE\", mean_absolute_error(y_dev.values, y_dev_pred))"
   ]
  },
  {
   "cell_type": "markdown",
   "metadata": {},
   "source": [
    "### Tổng hợp kết quả của các mô hình"
   ]
  },
  {
   "cell_type": "markdown",
   "metadata": {},
   "source": [
    "|Model|train_MSE|train_MAE|dev_MSE|dev_MAE|\n",
    "|---|---|---|---|---|\n",
    "|Linear Regression|275.6331|13.3665|277.8917|13.4155|\n",
    "|Linear Regression + add_area3|266.7582|13.1435|270.1805|13.2106|\n",
    "|Linear Regression + add_area5|264.3206|13.0903|268.4175|13.2063|\n",
    "|Linear Regression + add_area5 + max_followers|241.4187|12.4382|247.9952|12.6072|\n",
    "|Neural Network + add_area5 + max_followers|155.4821|9.6797|169.1587|10.1476|\n",
    "|Random Forest + add_area5 + max_followers|21.4945|3.5134|147.8407| 9.3715|\n"
   ]
  }
 ],
 "metadata": {
  "kernelspec": {
   "display_name": "Python 3",
   "language": "python",
   "name": "python3"
  },
  "language_info": {
   "codemirror_mode": {
    "name": "ipython",
    "version": 3
   },
   "file_extension": ".py",
   "mimetype": "text/x-python",
   "name": "python",
   "nbconvert_exporter": "python",
   "pygments_lexer": "ipython3",
   "version": "3.7.6"
  }
 },
 "nbformat": 4,
 "nbformat_minor": 4
}
