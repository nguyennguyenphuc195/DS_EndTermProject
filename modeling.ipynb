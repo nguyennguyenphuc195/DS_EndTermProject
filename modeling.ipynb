{
 "cells": [
  {
   "cell_type": "code",
   "execution_count": 21,
   "metadata": {},
   "outputs": [],
   "source": [
    "import numpy as np\n",
    "import matplotlib.pyplot as plt\n",
    "import pandas as pd\n",
    "import seaborn as sns\n",
    "from typing import Dict, List, Tuple"
   ]
  },
  {
   "cell_type": "code",
   "execution_count": 22,
   "metadata": {},
   "outputs": [],
   "source": [
    "TRACK_DIR = \"./data/tracks.csv\"\n",
    "ARTIST_DIR= \"./data/artists.csv\"\n",
    "AUDIO_DIR = \"./data/features.csv\""
   ]
  },
  {
   "cell_type": "markdown",
   "metadata": {},
   "source": [
    "Đọc dữ liệu từ các file csv đã crawl"
   ]
  },
  {
   "cell_type": "code",
   "execution_count": 23,
   "metadata": {},
   "outputs": [],
   "source": [
    "df_track_id   = pd.read_csv(TRACK_DIR, index_col=0)\n",
    "df_feature_id = pd.read_csv(AUDIO_DIR, index_col=0)\n",
    "\n",
    "df_track   = df_track_id.merge(df_feature_id, left_on=\"id\", right_on=\"id\")\n",
    "df_artist  = pd.read_csv(ARTIST_DIR, index_col=0)"
   ]
  },
  {
   "cell_type": "code",
   "execution_count": 24,
   "metadata": {},
   "outputs": [],
   "source": [
    "df_track = df_track.dropna(subset=[\"available_markets\"])"
   ]
  },
  {
   "cell_type": "markdown",
   "metadata": {},
   "source": [
    "Chia dữ liệu thành tập train và test"
   ]
  },
  {
   "cell_type": "code",
   "execution_count": 25,
   "metadata": {},
   "outputs": [],
   "source": [
    "from sklearn.model_selection import train_test_split\n",
    "\n",
    "df_train, df_test = train_test_split(df_track, random_state=0, test_size=0.2)\n",
    "df_test , df_dev = train_test_split(df_test, random_state=0 , test_size=0.5)"
   ]
  },
  {
   "cell_type": "code",
   "execution_count": 26,
   "metadata": {},
   "outputs": [
    {
     "name": "stdout",
     "output_type": "stream",
     "text": [
      "Train: (42368, 23)\n",
      "Dev:   (5296, 23)\n",
      "Test:  (5296, 23)\n"
     ]
    }
   ],
   "source": [
    "df_train.shape, df_dev.shape, df_test.shape\n",
    "\n",
    "print(\"Train:\", df_train.shape)\n",
    "print(\"Dev:  \", df_dev.shape)\n",
    "print(\"Test: \", df_test.shape)"
   ]
  },
  {
   "cell_type": "markdown",
   "metadata": {},
   "source": [
    "### Linear Regression"
   ]
  },
  {
   "cell_type": "code",
   "execution_count": 27,
   "metadata": {},
   "outputs": [],
   "source": [
    "from sklearn.linear_model import LinearRegression\n",
    "from sklearn.preprocessing import StandardScaler\n",
    "from sklearn.pipeline import Pipeline\n",
    "from sklearn.metrics import mean_squared_error, mean_absolute_error"
   ]
  },
  {
   "cell_type": "code",
   "execution_count": 28,
   "metadata": {},
   "outputs": [],
   "source": [
    "def preprocess_baseline(df, add_area=True, areas = [\"ME\", \"RS\", \"XK\"], select_numeric = True):    \n",
    "    a = df\n",
    "    \n",
    "    if add_area:\n",
    "        df_area = df[[\"id\", \"available_markets\"]].copy()\n",
    "        for area in areas:\n",
    "            df_area[f\"in_{area}\"] = df_area[\"available_markets\"].apply(lambda x : area in x)\n",
    "\n",
    "        a = df.merge(df_area, left_on=\"id\", right_on=\"id\")\n",
    "    \n",
    "    if select_numeric:\n",
    "        return a.select_dtypes([\"int64\", \"float64\", \"bool\"])\n",
    "    else:\n",
    "        return a"
   ]
  },
  {
   "cell_type": "markdown",
   "metadata": {},
   "source": [
    "### Không thêm dữ liệu available markets"
   ]
  },
  {
   "cell_type": "code",
   "execution_count": 29,
   "metadata": {},
   "outputs": [],
   "source": [
    "df_train_preproc = preprocess_baseline(df_train, False)\n",
    "df_dev_preproc = preprocess_baseline(df_dev,   False)\n",
    "x_train, y_train = df_train_preproc.drop(columns=\"popularity\"), df_train_preproc[\"popularity\"]\n",
    "x_dev,   y_dev   = df_dev_preproc.drop(columns=\"popularity\")  , df_dev_preproc[\"popularity\"]"
   ]
  },
  {
   "cell_type": "code",
   "execution_count": 30,
   "metadata": {},
   "outputs": [
    {
     "name": "stdout",
     "output_type": "stream",
     "text": [
      "Train: MSE  275.6330598388134 MAE 13.366453563236952\n",
      "Dev: MSE  277.89169591526473 MAE 13.415547748546809\n"
     ]
    }
   ],
   "source": [
    "model_baseline = Pipeline([('scaler', StandardScaler()), ('lr', LinearRegression())])\n",
    "\n",
    "model_baseline.fit(x_train.values, y_train.values)\n",
    "\n",
    "y_train_pred = model_baseline.predict(x_train.values)\n",
    "y_dev_pred   = model_baseline.predict(x_dev.values)\n",
    "\n",
    "print(\"Train: MSE \", mean_squared_error(y_train.values, y_train_pred) , \"MAE\", mean_absolute_error(y_train.values, y_train_pred))\n",
    "print(\"Dev: MSE \", mean_squared_error(y_dev.values, y_dev_pred) , \"MAE\", mean_absolute_error(y_dev.values, y_dev_pred))"
   ]
  },
  {
   "cell_type": "markdown",
   "metadata": {},
   "source": [
    "### Thêm dữ liệu available markets"
   ]
  },
  {
   "cell_type": "markdown",
   "metadata": {},
   "source": [
    "##### Thêm 3 available markets ảnh hưởng nhất (có tương quan cao nhất với popularity), phân tích ở notebook analysis.ipynp"
   ]
  },
  {
   "cell_type": "code",
   "execution_count": 31,
   "metadata": {},
   "outputs": [],
   "source": [
    "df_train_preproc = preprocess_baseline(df_train, True)\n",
    "df_dev_preproc = preprocess_baseline(df_dev,   True)\n",
    "x_train, y_train = df_train_preproc.drop(columns=\"popularity\"), df_train_preproc[\"popularity\"]\n",
    "x_dev,   y_dev   = df_dev_preproc.drop(columns=\"popularity\")  , df_dev_preproc[\"popularity\"]"
   ]
  },
  {
   "cell_type": "code",
   "execution_count": 32,
   "metadata": {},
   "outputs": [
    {
     "name": "stdout",
     "output_type": "stream",
     "text": [
      "Train: MSE  266.7581767778346 MAE 13.143501013661496\n",
      "Dev: MSE  270.18054338871343 MAE 13.210574115800439\n"
     ]
    }
   ],
   "source": [
    "model_baseline = Pipeline([('scaler', StandardScaler()), ('lr', LinearRegression())])\n",
    "\n",
    "model_baseline.fit(x_train.values, y_train.values)\n",
    "\n",
    "y_train_pred = model_baseline.predict(x_train.values)\n",
    "y_dev_pred   = model_baseline.predict(x_dev.values)\n",
    "\n",
    "print(\"Train: MSE \", mean_squared_error(y_train.values, y_train_pred) , \"MAE\", mean_absolute_error(y_train.values, y_train_pred))\n",
    "print(\"Dev: MSE \", mean_squared_error(y_dev.values, y_dev_pred) , \"MAE\", mean_absolute_error(y_dev.values, y_dev_pred))"
   ]
  },
  {
   "cell_type": "markdown",
   "metadata": {},
   "source": [
    "##### Thêm 5 available markets"
   ]
  },
  {
   "cell_type": "code",
   "execution_count": 33,
   "metadata": {},
   "outputs": [],
   "source": [
    "df_train_preproc = preprocess_baseline(df_train, True, [\"ME\", \"RS\", \"XK\", \"US\", \"JP\"])\n",
    "df_dev_preproc   = preprocess_baseline(df_dev,   True, [\"ME\", \"RS\", \"XK\", \"US\", \"JP\"])\n",
    "\n",
    "x_train, y_train = df_train_preproc.drop(columns=\"popularity\"), df_train_preproc[\"popularity\"]\n",
    "x_dev,   y_dev   = df_dev_preproc.drop(columns=\"popularity\")  , df_dev_preproc[\"popularity\"]"
   ]
  },
  {
   "cell_type": "code",
   "execution_count": 34,
   "metadata": {},
   "outputs": [
    {
     "name": "stdout",
     "output_type": "stream",
     "text": [
      "Train: MSE  264.32058364644774 MAE 13.090310808814577\n",
      "Dev: MSE  268.4174594754088 MAE 13.20629684826219\n"
     ]
    }
   ],
   "source": [
    "model_baseline = Pipeline([('scaler', StandardScaler()), ('lr', LinearRegression())])\n",
    "\n",
    "model_baseline.fit(x_train.values, y_train.values)\n",
    "\n",
    "y_train_pred = model_baseline.predict(x_train.values)\n",
    "y_dev_pred   = model_baseline.predict(x_dev.values)\n",
    "\n",
    "print(\"Train: MSE \", mean_squared_error(y_train.values, y_train_pred) , \"MAE\", mean_absolute_error(y_train.values, y_train_pred))\n",
    "print(\"Dev: MSE \", mean_squared_error(y_dev.values, y_dev_pred) , \"MAE\", mean_absolute_error(y_dev.values, y_dev_pred))"
   ]
  },
  {
   "cell_type": "markdown",
   "metadata": {},
   "source": [
    "### Thêm giá trị followers\n",
    "Thêm giá trị followers lớn nhất của các artist trong bài hát"
   ]
  },
  {
   "cell_type": "code",
   "execution_count": 35,
   "metadata": {},
   "outputs": [],
   "source": [
    "def add_max_followers(df, fill_na_value=0):\n",
    "    b = df[[\"id\", \"artists\"]].copy()\n",
    "    b[\"artists\"] = b[\"artists\"].apply(lambda x : x.split(\",\"))\n",
    "    \n",
    "    #Tạo ra các dòng gồm 1 artist id\n",
    "    b = b.explode(\"artists\")\n",
    "    \n",
    "    #join hai bảng dựa vào artists id\n",
    "    df_track_follower = b.merge(df_artist[[\"id\", \"followers\"]], left_on=\"artists\", right_on=\"id\", how=\"left\")\n",
    "    #Bỏ cột thừa sau khi merge\n",
    "    df_track_follower = df_track_follower.drop(columns=\"id_y\")\n",
    "    df_track_follower.columns = [\"id_track\", \"id_artists\", \"followers\"]\n",
    "    \n",
    "    #group theo id track là lấy max của followers các dòng cùng id track\n",
    "    track_follower_max  = df_track_follower.groupby(\"id_track\")[\"followers\"].max()\n",
    "    #Các artist không có followers thay bằng giá trị\n",
    "    track_follower_max  = track_follower_max.fillna(fill_na_value)\n",
    "    \n",
    "    df_tmp = df.merge(track_follower_max, left_on=\"id\", right_index=True)\n",
    "    return df_tmp"
   ]
  },
  {
   "cell_type": "code",
   "execution_count": 36,
   "metadata": {},
   "outputs": [],
   "source": [
    "follower_median = df_artist.followers.median()\n",
    "\n",
    "df_train_preproc = preprocess_baseline(df_train, True, [\"ME\", \"RS\", \"XK\", \"US\", \"JP\"], False)\n",
    "df_dev_preproc   = preprocess_baseline(df_dev,   True, [\"ME\", \"RS\", \"XK\", \"US\", \"JP\"], False)\n",
    "\n",
    "df_train_preproc = add_max_followers(df_train_preproc, follower_median).select_dtypes([\"int64\", \"float64\", \"bool\"])\n",
    "df_dev_preproc   = add_max_followers(df_dev_preproc, follower_median).select_dtypes([\"int64\", \"float64\", \"bool\"])\n",
    "\n",
    "x_train, y_train = df_train_preproc.drop(columns=\"popularity\"), df_train_preproc[\"popularity\"]\n",
    "x_dev,   y_dev   = df_dev_preproc.drop(columns=\"popularity\")  , df_dev_preproc[\"popularity\"]"
   ]
  },
  {
   "cell_type": "code",
   "execution_count": 37,
   "metadata": {},
   "outputs": [
    {
     "name": "stdout",
     "output_type": "stream",
     "text": [
      "Train: MSE  241.41868288815206 MAE 12.438236679375619\n",
      "Dev: MSE  247.9952107395564 MAE 12.60718226266387\n"
     ]
    }
   ],
   "source": [
    "model_baseline = Pipeline([('scaler', StandardScaler()), ('lr', LinearRegression())])\n",
    "model_baseline.fit(x_train.values, y_train.values)\n",
    "\n",
    "y_train_pred = model_baseline.predict(x_train.values)\n",
    "y_dev_pred   = model_baseline.predict(x_dev.values)\n",
    "\n",
    "print(\"Train: MSE \", mean_squared_error(y_train.values, y_train_pred) , \"MAE\", mean_absolute_error(y_train.values, y_train_pred))\n",
    "print(\"Dev: MSE \", mean_squared_error(y_dev.values, y_dev_pred) , \"MAE\", mean_absolute_error(y_dev.values, y_dev_pred))"
   ]
  },
  {
   "cell_type": "markdown",
   "metadata": {},
   "source": [
    "### Neural network"
   ]
  },
  {
   "cell_type": "code",
   "execution_count": 38,
   "metadata": {},
   "outputs": [],
   "source": [
    "from sklearn.neural_network import MLPRegressor"
   ]
  },
  {
   "cell_type": "code",
   "execution_count": 39,
   "metadata": {},
   "outputs": [],
   "source": [
    "follower_median = df_artist.followers.median()\n",
    "\n",
    "df_train_preproc = preprocess_baseline(df_train, True, [\"ME\", \"RS\", \"XK\", \"US\", \"JP\"], False)\n",
    "df_dev_preproc   = preprocess_baseline(df_dev,   True, [\"ME\", \"RS\", \"XK\", \"US\", \"JP\"], False)\n",
    "\n",
    "df_train_preproc = add_max_followers(df_train_preproc, follower_median).select_dtypes([\"int64\", \"float64\", \"bool\"])\n",
    "df_dev_preproc   = add_max_followers(df_dev_preproc, follower_median).select_dtypes([\"int64\", \"float64\", \"bool\"])\n",
    "\n",
    "x_train, y_train = df_train_preproc.drop(columns=\"popularity\"), df_train_preproc[\"popularity\"]\n",
    "x_dev,   y_dev   = df_dev_preproc.drop(columns=\"popularity\")  , df_dev_preproc[\"popularity\"]"
   ]
  },
  {
   "cell_type": "code",
   "execution_count": 40,
   "metadata": {},
   "outputs": [
    {
     "name": "stdout",
     "output_type": "stream",
     "text": [
      "Train: MSE  153.35221544969014 MAE 9.634180144202636\n",
      "Dev: MSE  168.8989156666564 MAE 10.163242807888718\n"
     ]
    },
    {
     "name": "stderr",
     "output_type": "stream",
     "text": [
      "C:\\Users\\NHAN NGUYEN\\anaconda3\\lib\\site-packages\\sklearn\\neural_network\\multilayer_perceptron.py:566: ConvergenceWarning: Stochastic Optimizer: Maximum iterations (200) reached and the optimization hasn't converged yet.\n",
      "  % self.max_iter, ConvergenceWarning)\n"
     ]
    }
   ],
   "source": [
    "model_nn = Pipeline([('scaler', StandardScaler()), ('nn', MLPRegressor(learning_rate_init=0.01))])\n",
    "model_nn.fit(x_train.values, y_train.values)\n",
    "\n",
    "y_train_pred = model_nn.predict(x_train.values)\n",
    "y_dev_pred   = model_nn.predict(x_dev.values)\n",
    "\n",
    "print(\"Train: MSE \", mean_squared_error(y_train.values, y_train_pred) , \"MAE\", mean_absolute_error(y_train.values, y_train_pred))\n",
    "print(\"Dev: MSE \", mean_squared_error(y_dev.values, y_dev_pred) , \"MAE\", mean_absolute_error(y_dev.values, y_dev_pred))"
   ]
  },
  {
   "cell_type": "markdown",
   "metadata": {},
   "source": [
    "### Random Forest"
   ]
  },
  {
   "cell_type": "code",
   "execution_count": 41,
   "metadata": {},
   "outputs": [],
   "source": [
    "from sklearn.ensemble import RandomForestRegressor"
   ]
  },
  {
   "cell_type": "code",
   "execution_count": 42,
   "metadata": {},
   "outputs": [],
   "source": [
    "follower_median = df_artist.followers.median()\n",
    "\n",
    "df_train_preproc = preprocess_baseline(df_train, True, [\"ME\", \"RS\", \"XK\", \"US\", \"JP\"], False)\n",
    "df_dev_preproc   = preprocess_baseline(df_dev,   True, [\"ME\", \"RS\", \"XK\", \"US\", \"JP\"], False)\n",
    "\n",
    "df_train_preproc = add_max_followers(df_train_preproc, follower_median).select_dtypes([\"int64\", \"float64\", \"bool\"])\n",
    "df_dev_preproc   = add_max_followers(df_dev_preproc, follower_median).select_dtypes([\"int64\", \"float64\", \"bool\"])\n",
    "\n",
    "x_train, y_train = df_train_preproc.drop(columns=\"popularity\"), df_train_preproc[\"popularity\"]\n",
    "x_dev,   y_dev   = df_dev_preproc.drop(columns=\"popularity\")  , df_dev_preproc[\"popularity\"]"
   ]
  },
  {
   "cell_type": "code",
   "execution_count": 43,
   "metadata": {},
   "outputs": [
    {
     "name": "stderr",
     "output_type": "stream",
     "text": [
      "C:\\Users\\NHAN NGUYEN\\anaconda3\\lib\\site-packages\\sklearn\\ensemble\\forest.py:245: FutureWarning: The default value of n_estimators will change from 10 in version 0.20 to 100 in 0.22.\n",
      "  \"10 in version 0.20 to 100 in 0.22.\", FutureWarning)\n"
     ]
    },
    {
     "name": "stdout",
     "output_type": "stream",
     "text": [
      "Train: MSE  30.247423877326764 MAE 3.941899861530715\n",
      "Dev: MSE  162.8333668743706 MAE 9.798257804632428\n"
     ]
    }
   ],
   "source": [
    "model_rf = Pipeline([('scaler', StandardScaler()), ('nn', RandomForestRegressor())])\n",
    "model_rf.fit(x_train.values, y_train.values)\n",
    "\n",
    "y_train_pred = model_rf.predict(x_train.values)\n",
    "y_dev_pred   = model_rf.predict(x_dev.values)\n",
    "\n",
    "print(\"Train: MSE \", mean_squared_error(y_train.values, y_train_pred) , \"MAE\", mean_absolute_error(y_train.values, y_train_pred))\n",
    "print(\"Dev: MSE \", mean_squared_error(y_dev.values, y_dev_pred) , \"MAE\", mean_absolute_error(y_dev.values, y_dev_pred))"
   ]
  },
  {
   "cell_type": "markdown",
   "metadata": {},
   "source": [
    "### Tổng hợp kết quả của các mô hình"
   ]
  },
  {
   "cell_type": "markdown",
   "metadata": {},
   "source": [
    "|Model|train_MSE|train_MAE|dev_MSE|dev_MAE|\n",
    "|---|---|---|---|---|\n",
    "|Linear Regression|275.6331|13.3665|277.8917|13.4155|\n",
    "|Linear Regression + add_area3|266.7582|13.1435|270.1805|13.2106|\n",
    "|Linear Regression + add_area5|264.3206|13.0903|268.4175|13.2063|\n",
    "|Linear Regression + add_area5 + max_followers|241.4187|12.4382|247.9952|12.6072|\n",
    "|Neural Network + add_area5 + max_followers|155.4821|9.6797|169.1587|10.1476|\n",
    "|Random Forest + add_area5 + max_followers|21.4945|3.5134|147.8407| 9.3715|\n"
   ]
  },
  {
   "cell_type": "markdown",
   "metadata": {},
   "source": [
    "Như vậy có thể thấy, mô hình Random Forest + tiền xử lý cho kết quả tốt nhất"
   ]
  },
  {
   "cell_type": "markdown",
   "metadata": {},
   "source": [
    "### Huấn luyện mô hình với toàn bộ tập train (Dev + Train)"
   ]
  },
  {
   "cell_type": "code",
   "execution_count": 44,
   "metadata": {},
   "outputs": [
    {
     "data": {
      "text/plain": [
       "(47664, 23)"
      ]
     },
     "execution_count": 44,
     "metadata": {},
     "output_type": "execute_result"
    }
   ],
   "source": [
    "df_train_all = pd.concat([df_train, df_dev], axis=0)\n",
    "df_train_all.shape"
   ]
  },
  {
   "cell_type": "code",
   "execution_count": 45,
   "metadata": {},
   "outputs": [],
   "source": [
    "follower_median = df_artist.followers.median()\n",
    "\n",
    "df_train_preproc = preprocess_baseline(df_train_all, True, [\"ME\", \"RS\", \"XK\", \"US\", \"JP\"], False)\n",
    "df_train_preproc = add_max_followers(df_train_all, follower_median).select_dtypes([\"int64\", \"float64\", \"bool\"])\n",
    "\n",
    "x_train, y_train = df_train_preproc.drop(columns=\"popularity\"), df_train_preproc[\"popularity\"]"
   ]
  },
  {
   "cell_type": "code",
   "execution_count": 46,
   "metadata": {},
   "outputs": [
    {
     "name": "stderr",
     "output_type": "stream",
     "text": [
      "C:\\Users\\NHAN NGUYEN\\anaconda3\\lib\\site-packages\\sklearn\\ensemble\\forest.py:245: FutureWarning: The default value of n_estimators will change from 10 in version 0.20 to 100 in 0.22.\n",
      "  \"10 in version 0.20 to 100 in 0.22.\", FutureWarning)\n"
     ]
    },
    {
     "data": {
      "text/plain": [
       "Pipeline(memory=None,\n",
       "         steps=[('scaler',\n",
       "                 StandardScaler(copy=True, with_mean=True, with_std=True)),\n",
       "                ('nn',\n",
       "                 RandomForestRegressor(bootstrap=True, criterion='mse',\n",
       "                                       max_depth=None, max_features='auto',\n",
       "                                       max_leaf_nodes=None,\n",
       "                                       min_impurity_decrease=0.0,\n",
       "                                       min_impurity_split=None,\n",
       "                                       min_samples_leaf=1, min_samples_split=2,\n",
       "                                       min_weight_fraction_leaf=0.0,\n",
       "                                       n_estimators=10, n_jobs=None,\n",
       "                                       oob_score=False, random_state=None,\n",
       "                                       verbose=0, warm_start=False))],\n",
       "         verbose=False)"
      ]
     },
     "execution_count": 46,
     "metadata": {},
     "output_type": "execute_result"
    }
   ],
   "source": [
    "model_rf = Pipeline([('scaler', StandardScaler()), ('nn', RandomForestRegressor())])\n",
    "model_rf.fit(x_train.values, y_train.values)"
   ]
  },
  {
   "cell_type": "markdown",
   "metadata": {},
   "source": [
    "### Save model"
   ]
  },
  {
   "cell_type": "code",
   "execution_count": 47,
   "metadata": {},
   "outputs": [
    {
     "data": {
      "text/plain": [
       "['final_model.joblib']"
      ]
     },
     "execution_count": 47,
     "metadata": {},
     "output_type": "execute_result"
    }
   ],
   "source": [
    "import joblib\n",
    "joblib.dump(model_rf, \"final_model.joblib\")"
   ]
  },
  {
   "cell_type": "markdown",
   "metadata": {},
   "source": [
    "### Chạy trên tập test"
   ]
  },
  {
   "cell_type": "code",
   "execution_count": 48,
   "metadata": {},
   "outputs": [],
   "source": [
    "final_model = joblib.load(\"final_model.joblib\")"
   ]
  },
  {
   "cell_type": "code",
   "execution_count": 49,
   "metadata": {},
   "outputs": [],
   "source": [
    "follower_median = df_artist.followers.median()\n",
    "\n",
    "df_train_preproc = preprocess_baseline(df_test, True, [\"ME\", \"RS\", \"XK\", \"US\", \"JP\"], False)\n",
    "df_train_preproc = add_max_followers(df_test, follower_median).select_dtypes([\"int64\", \"float64\", \"bool\"])\n",
    "\n",
    "x_test, y_test = df_train_preproc.drop(columns=\"popularity\"), df_train_preproc[\"popularity\"]"
   ]
  },
  {
   "cell_type": "code",
   "execution_count": 50,
   "metadata": {},
   "outputs": [
    {
     "name": "stdout",
     "output_type": "stream",
     "text": [
      "Train: MSE  33.827692060216975 MAE 4.133186941527198\n",
      "Test: MSE  180.11628560253405 MAE 9.798257804632428\n"
     ]
    }
   ],
   "source": [
    "y_train_pred = final_model.predict(x_train.values)\n",
    "y_test_pred   = final_model.predict(x_test.values)\n",
    "\n",
    "print(\"Train: MSE \", mean_squared_error(y_train.values, y_train_pred) , \"MAE\", mean_absolute_error(y_train.values, y_train_pred))\n",
    "print(\"Test: MSE \", mean_squared_error(y_test.values, y_test_pred) , \"MAE\", mean_absolute_error(y_dev.values, y_dev_pred))"
   ]
  }
 ],
 "metadata": {
  "kernelspec": {
   "display_name": "Python 3",
   "language": "python",
   "name": "python3"
  },
  "language_info": {
   "codemirror_mode": {
    "name": "ipython",
    "version": 3
   },
   "file_extension": ".py",
   "mimetype": "text/x-python",
   "name": "python",
   "nbconvert_exporter": "python",
   "pygments_lexer": "ipython3",
   "version": "3.7.6"
  }
 },
 "nbformat": 4,
 "nbformat_minor": 4
}
